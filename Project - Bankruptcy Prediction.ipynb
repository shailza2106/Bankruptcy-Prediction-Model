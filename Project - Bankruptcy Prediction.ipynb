{
 "cells": [
  {
   "cell_type": "code",
   "execution_count": 58,
   "id": "04e150f2",
   "metadata": {},
   "outputs": [],
   "source": [
    "import numpy as np\n",
    "import pandas as pd\n",
    "pd.pandas.set_option(\"display.max_columns\",None)\n",
    "%matplotlib inline\n",
    "import matplotlib.pyplot as plt\n",
    "import seaborn as sns\n",
    "from scipy.io import arff\n",
    "from sklearn.preprocessing import StandardScaler\n",
    "from sklearn.impute import SimpleImputer\n",
    "from imblearn.over_sampling import SMOTE\n",
    "from sklearn.linear_model import LogisticRegression\n",
    "from sklearn.metrics import accuracy_score,confusion_matrix,f1_score,precision_score,recall_score\n",
    "from sklearn.ensemble import RandomForestClassifier\n",
    "from sklearn.svm import SVC"
   ]
  },
  {
   "cell_type": "markdown",
   "id": "4a7b6ab3",
   "metadata": {},
   "source": [
    "Importing dataset:-"
   ]
  },
  {
   "cell_type": "code",
   "execution_count": 2,
   "id": "1d57f58c",
   "metadata": {},
   "outputs": [
    {
     "name": "stderr",
     "output_type": "stream",
     "text": [
      "C:\\Users\\SHAILZA SHARMA\\AppData\\Local\\Temp\\ipykernel_11348\\1838220471.py:2: UserWarning: Pandas doesn't allow columns to be created via a new attribute name - see https://pandas.pydata.org/pandas-docs/stable/indexing.html#attribute-access\n",
      "  df1.train=arff.loadarff(r'C:/Users/SHAILZA SHARMA/Desktop/ML Projects/Bankruptcy/'+str(i)+'year.arff')\n"
     ]
    }
   ],
   "source": [
    "def import_data(i):\n",
    "    df1.train=arff.loadarff(r'C:/Users/SHAILZA SHARMA/Desktop/ML Projects/Bankruptcy/'+str(i)+'year.arff')\n",
    "    df1.train=pd.DataFrame(df1.train[0])\n",
    "    return df1.train\n",
    "                            \n",
    "df1=pd.DataFrame()\n",
    "df1=import_data(3)"
   ]
  },
  {
   "cell_type": "code",
   "execution_count": 3,
   "id": "33e4b4e2",
   "metadata": {},
   "outputs": [
    {
     "name": "stdout",
     "output_type": "stream",
     "text": [
      "<class 'pandas.core.frame.DataFrame'>\n",
      "RangeIndex: 10503 entries, 0 to 10502\n",
      "Data columns (total 65 columns):\n",
      " #   Column  Non-Null Count  Dtype  \n",
      "---  ------  --------------  -----  \n",
      " 0   Attr1   10503 non-null  float64\n",
      " 1   Attr2   10503 non-null  float64\n",
      " 2   Attr3   10503 non-null  float64\n",
      " 3   Attr4   10485 non-null  float64\n",
      " 4   Attr5   10478 non-null  float64\n",
      " 5   Attr6   10503 non-null  float64\n",
      " 6   Attr7   10503 non-null  float64\n",
      " 7   Attr8   10489 non-null  float64\n",
      " 8   Attr9   10500 non-null  float64\n",
      " 9   Attr10  10503 non-null  float64\n",
      " 10  Attr11  10503 non-null  float64\n",
      " 11  Attr12  10485 non-null  float64\n",
      " 12  Attr13  10460 non-null  float64\n",
      " 13  Attr14  10503 non-null  float64\n",
      " 14  Attr15  10495 non-null  float64\n",
      " 15  Attr16  10489 non-null  float64\n",
      " 16  Attr17  10489 non-null  float64\n",
      " 17  Attr18  10503 non-null  float64\n",
      " 18  Attr19  10460 non-null  float64\n",
      " 19  Attr20  10460 non-null  float64\n",
      " 20  Attr21  9696 non-null   float64\n",
      " 21  Attr22  10503 non-null  float64\n",
      " 22  Attr23  10460 non-null  float64\n",
      " 23  Attr24  10276 non-null  float64\n",
      " 24  Attr25  10503 non-null  float64\n",
      " 25  Attr26  10489 non-null  float64\n",
      " 26  Attr27  9788 non-null   float64\n",
      " 27  Attr28  10275 non-null  float64\n",
      " 28  Attr29  10503 non-null  float64\n",
      " 29  Attr30  10460 non-null  float64\n",
      " 30  Attr31  10460 non-null  float64\n",
      " 31  Attr32  10402 non-null  float64\n",
      " 32  Attr33  10485 non-null  float64\n",
      " 33  Attr34  10489 non-null  float64\n",
      " 34  Attr35  10503 non-null  float64\n",
      " 35  Attr36  10503 non-null  float64\n",
      " 36  Attr37  5767 non-null   float64\n",
      " 37  Attr38  10503 non-null  float64\n",
      " 38  Attr39  10460 non-null  float64\n",
      " 39  Attr40  10485 non-null  float64\n",
      " 40  Attr41  10301 non-null  float64\n",
      " 41  Attr42  10460 non-null  float64\n",
      " 42  Attr43  10460 non-null  float64\n",
      " 43  Attr44  10460 non-null  float64\n",
      " 44  Attr45  9912 non-null   float64\n",
      " 45  Attr46  10485 non-null  float64\n",
      " 46  Attr47  10417 non-null  float64\n",
      " 47  Attr48  10503 non-null  float64\n",
      " 48  Attr49  10460 non-null  float64\n",
      " 49  Attr50  10489 non-null  float64\n",
      " 50  Attr51  10503 non-null  float64\n",
      " 51  Attr52  10417 non-null  float64\n",
      " 52  Attr53  10275 non-null  float64\n",
      " 53  Attr54  10275 non-null  float64\n",
      " 54  Attr55  10503 non-null  float64\n",
      " 55  Attr56  10460 non-null  float64\n",
      " 56  Attr57  10503 non-null  float64\n",
      " 57  Attr58  10474 non-null  float64\n",
      " 58  Attr59  10503 non-null  float64\n",
      " 59  Attr60  9911 non-null   float64\n",
      " 60  Attr61  10486 non-null  float64\n",
      " 61  Attr62  10460 non-null  float64\n",
      " 62  Attr63  10485 non-null  float64\n",
      " 63  Attr64  10275 non-null  float64\n",
      " 64  class   10503 non-null  object \n",
      "dtypes: float64(64), object(1)\n",
      "memory usage: 5.2+ MB\n"
     ]
    }
   ],
   "source": [
    "df1.info()"
   ]
  },
  {
   "cell_type": "code",
   "execution_count": 4,
   "id": "e7a92aaa",
   "metadata": {},
   "outputs": [
    {
     "data": {
      "text/html": [
       "<div>\n",
       "<style scoped>\n",
       "    .dataframe tbody tr th:only-of-type {\n",
       "        vertical-align: middle;\n",
       "    }\n",
       "\n",
       "    .dataframe tbody tr th {\n",
       "        vertical-align: top;\n",
       "    }\n",
       "\n",
       "    .dataframe thead th {\n",
       "        text-align: right;\n",
       "    }\n",
       "</style>\n",
       "<table border=\"1\" class=\"dataframe\">\n",
       "  <thead>\n",
       "    <tr style=\"text-align: right;\">\n",
       "      <th></th>\n",
       "      <th>Attr1</th>\n",
       "      <th>Attr2</th>\n",
       "      <th>Attr3</th>\n",
       "      <th>Attr4</th>\n",
       "      <th>Attr5</th>\n",
       "      <th>Attr6</th>\n",
       "      <th>Attr7</th>\n",
       "      <th>Attr8</th>\n",
       "      <th>Attr9</th>\n",
       "      <th>Attr10</th>\n",
       "      <th>Attr11</th>\n",
       "      <th>Attr12</th>\n",
       "      <th>Attr13</th>\n",
       "      <th>Attr14</th>\n",
       "      <th>Attr15</th>\n",
       "      <th>Attr16</th>\n",
       "      <th>Attr17</th>\n",
       "      <th>Attr18</th>\n",
       "      <th>Attr19</th>\n",
       "      <th>Attr20</th>\n",
       "      <th>Attr21</th>\n",
       "      <th>Attr22</th>\n",
       "      <th>Attr23</th>\n",
       "      <th>Attr24</th>\n",
       "      <th>Attr25</th>\n",
       "      <th>Attr26</th>\n",
       "      <th>Attr27</th>\n",
       "      <th>Attr28</th>\n",
       "      <th>Attr29</th>\n",
       "      <th>Attr30</th>\n",
       "      <th>Attr31</th>\n",
       "      <th>Attr32</th>\n",
       "      <th>Attr33</th>\n",
       "      <th>Attr34</th>\n",
       "      <th>Attr35</th>\n",
       "      <th>Attr36</th>\n",
       "      <th>Attr37</th>\n",
       "      <th>Attr38</th>\n",
       "      <th>Attr39</th>\n",
       "      <th>Attr40</th>\n",
       "      <th>Attr41</th>\n",
       "      <th>Attr42</th>\n",
       "      <th>Attr43</th>\n",
       "      <th>Attr44</th>\n",
       "      <th>Attr45</th>\n",
       "      <th>Attr46</th>\n",
       "      <th>Attr47</th>\n",
       "      <th>Attr48</th>\n",
       "      <th>Attr49</th>\n",
       "      <th>Attr50</th>\n",
       "      <th>Attr51</th>\n",
       "      <th>Attr52</th>\n",
       "      <th>Attr53</th>\n",
       "      <th>Attr54</th>\n",
       "      <th>Attr55</th>\n",
       "      <th>Attr56</th>\n",
       "      <th>Attr57</th>\n",
       "      <th>Attr58</th>\n",
       "      <th>Attr59</th>\n",
       "      <th>Attr60</th>\n",
       "      <th>Attr61</th>\n",
       "      <th>Attr62</th>\n",
       "      <th>Attr63</th>\n",
       "      <th>Attr64</th>\n",
       "      <th>class</th>\n",
       "    </tr>\n",
       "  </thead>\n",
       "  <tbody>\n",
       "    <tr>\n",
       "      <th>0</th>\n",
       "      <td>0.174190</td>\n",
       "      <td>0.41299</td>\n",
       "      <td>0.14371</td>\n",
       "      <td>1.3480</td>\n",
       "      <td>-28.9820</td>\n",
       "      <td>0.60383</td>\n",
       "      <td>0.219460</td>\n",
       "      <td>1.1225</td>\n",
       "      <td>1.1961</td>\n",
       "      <td>0.46359</td>\n",
       "      <td>0.219460</td>\n",
       "      <td>0.531390</td>\n",
       "      <td>0.142330</td>\n",
       "      <td>0.219460</td>\n",
       "      <td>592.24</td>\n",
       "      <td>0.61630</td>\n",
       "      <td>2.4213</td>\n",
       "      <td>0.219460</td>\n",
       "      <td>0.122720</td>\n",
       "      <td>37.573</td>\n",
       "      <td>0.99690</td>\n",
       "      <td>0.295100</td>\n",
       "      <td>0.097402</td>\n",
       "      <td>0.75641</td>\n",
       "      <td>0.46359</td>\n",
       "      <td>0.50669</td>\n",
       "      <td>1.97370</td>\n",
       "      <td>0.32417</td>\n",
       "      <td>5.9473</td>\n",
       "      <td>0.224930</td>\n",
       "      <td>0.122720</td>\n",
       "      <td>100.820</td>\n",
       "      <td>3.6203</td>\n",
       "      <td>0.71453</td>\n",
       "      <td>0.295100</td>\n",
       "      <td>1.8079</td>\n",
       "      <td>123140.0000</td>\n",
       "      <td>0.46359</td>\n",
       "      <td>0.165010</td>\n",
       "      <td>0.212820</td>\n",
       "      <td>0.041124</td>\n",
       "      <td>0.165010</td>\n",
       "      <td>95.682</td>\n",
       "      <td>58.109</td>\n",
       "      <td>0.946210</td>\n",
       "      <td>0.90221</td>\n",
       "      <td>44.941</td>\n",
       "      <td>0.260030</td>\n",
       "      <td>0.145400</td>\n",
       "      <td>1.3480</td>\n",
       "      <td>0.41299</td>\n",
       "      <td>0.27622</td>\n",
       "      <td>1.0457</td>\n",
       "      <td>1.0458</td>\n",
       "      <td>127280.0</td>\n",
       "      <td>0.163960</td>\n",
       "      <td>0.375740</td>\n",
       "      <td>0.83604</td>\n",
       "      <td>0.000007</td>\n",
       "      <td>9.7145</td>\n",
       "      <td>6.2813</td>\n",
       "      <td>84.291</td>\n",
       "      <td>4.3303</td>\n",
       "      <td>4.0341</td>\n",
       "      <td>b'0'</td>\n",
       "    </tr>\n",
       "    <tr>\n",
       "      <th>1</th>\n",
       "      <td>0.146240</td>\n",
       "      <td>0.46038</td>\n",
       "      <td>0.28230</td>\n",
       "      <td>1.6294</td>\n",
       "      <td>2.5952</td>\n",
       "      <td>0.00000</td>\n",
       "      <td>0.171850</td>\n",
       "      <td>1.1721</td>\n",
       "      <td>1.6018</td>\n",
       "      <td>0.53962</td>\n",
       "      <td>0.175790</td>\n",
       "      <td>0.383170</td>\n",
       "      <td>0.126470</td>\n",
       "      <td>0.171850</td>\n",
       "      <td>829.46</td>\n",
       "      <td>0.44004</td>\n",
       "      <td>2.1721</td>\n",
       "      <td>0.171850</td>\n",
       "      <td>0.107280</td>\n",
       "      <td>60.954</td>\n",
       "      <td>5.08890</td>\n",
       "      <td>0.175710</td>\n",
       "      <td>0.091295</td>\n",
       "      <td>NaN</td>\n",
       "      <td>0.17523</td>\n",
       "      <td>0.38442</td>\n",
       "      <td>44.59300</td>\n",
       "      <td>1.04860</td>\n",
       "      <td>4.0792</td>\n",
       "      <td>0.243840</td>\n",
       "      <td>0.109740</td>\n",
       "      <td>105.090</td>\n",
       "      <td>3.4733</td>\n",
       "      <td>3.38360</td>\n",
       "      <td>0.044076</td>\n",
       "      <td>1.6018</td>\n",
       "      <td>NaN</td>\n",
       "      <td>0.53962</td>\n",
       "      <td>0.027516</td>\n",
       "      <td>0.164060</td>\n",
       "      <td>0.074333</td>\n",
       "      <td>0.109690</td>\n",
       "      <td>149.750</td>\n",
       "      <td>88.801</td>\n",
       "      <td>0.546690</td>\n",
       "      <td>1.03300</td>\n",
       "      <td>62.678</td>\n",
       "      <td>0.144970</td>\n",
       "      <td>0.090503</td>\n",
       "      <td>1.5874</td>\n",
       "      <td>0.44849</td>\n",
       "      <td>0.28791</td>\n",
       "      <td>2.0044</td>\n",
       "      <td>2.0044</td>\n",
       "      <td>3387.8</td>\n",
       "      <td>0.027516</td>\n",
       "      <td>0.271000</td>\n",
       "      <td>0.90108</td>\n",
       "      <td>0.000000</td>\n",
       "      <td>5.9882</td>\n",
       "      <td>4.1103</td>\n",
       "      <td>102.190</td>\n",
       "      <td>3.5716</td>\n",
       "      <td>5.9500</td>\n",
       "      <td>b'0'</td>\n",
       "    </tr>\n",
       "    <tr>\n",
       "      <th>2</th>\n",
       "      <td>0.000595</td>\n",
       "      <td>0.22612</td>\n",
       "      <td>0.48839</td>\n",
       "      <td>3.1599</td>\n",
       "      <td>84.8740</td>\n",
       "      <td>0.19114</td>\n",
       "      <td>0.004572</td>\n",
       "      <td>2.9881</td>\n",
       "      <td>1.0077</td>\n",
       "      <td>0.67566</td>\n",
       "      <td>0.004572</td>\n",
       "      <td>0.020219</td>\n",
       "      <td>0.030966</td>\n",
       "      <td>0.004572</td>\n",
       "      <td>2094.10</td>\n",
       "      <td>0.17430</td>\n",
       "      <td>4.4225</td>\n",
       "      <td>0.004572</td>\n",
       "      <td>0.003592</td>\n",
       "      <td>53.881</td>\n",
       "      <td>0.67451</td>\n",
       "      <td>0.040610</td>\n",
       "      <td>0.000468</td>\n",
       "      <td>0.23470</td>\n",
       "      <td>0.67566</td>\n",
       "      <td>0.15672</td>\n",
       "      <td>0.32153</td>\n",
       "      <td>1.71070</td>\n",
       "      <td>4.6220</td>\n",
       "      <td>0.036196</td>\n",
       "      <td>0.003592</td>\n",
       "      <td>65.345</td>\n",
       "      <td>5.5857</td>\n",
       "      <td>0.17960</td>\n",
       "      <td>0.040610</td>\n",
       "      <td>1.3425</td>\n",
       "      <td>NaN</td>\n",
       "      <td>0.67566</td>\n",
       "      <td>0.031907</td>\n",
       "      <td>0.844690</td>\n",
       "      <td>0.098528</td>\n",
       "      <td>0.031907</td>\n",
       "      <td>150.130</td>\n",
       "      <td>96.251</td>\n",
       "      <td>0.003168</td>\n",
       "      <td>2.32900</td>\n",
       "      <td>54.296</td>\n",
       "      <td>0.005769</td>\n",
       "      <td>0.004533</td>\n",
       "      <td>3.1599</td>\n",
       "      <td>0.22612</td>\n",
       "      <td>0.17903</td>\n",
       "      <td>2.3667</td>\n",
       "      <td>2.3667</td>\n",
       "      <td>20453.0</td>\n",
       "      <td>0.007639</td>\n",
       "      <td>0.000881</td>\n",
       "      <td>0.99236</td>\n",
       "      <td>0.000000</td>\n",
       "      <td>6.7742</td>\n",
       "      <td>3.7922</td>\n",
       "      <td>64.846</td>\n",
       "      <td>5.6287</td>\n",
       "      <td>4.4581</td>\n",
       "      <td>b'0'</td>\n",
       "    </tr>\n",
       "    <tr>\n",
       "      <th>3</th>\n",
       "      <td>0.024526</td>\n",
       "      <td>0.43236</td>\n",
       "      <td>0.27546</td>\n",
       "      <td>1.7833</td>\n",
       "      <td>-10.1050</td>\n",
       "      <td>0.56944</td>\n",
       "      <td>0.024526</td>\n",
       "      <td>1.3057</td>\n",
       "      <td>1.0509</td>\n",
       "      <td>0.56453</td>\n",
       "      <td>0.024526</td>\n",
       "      <td>0.069747</td>\n",
       "      <td>0.036812</td>\n",
       "      <td>0.024526</td>\n",
       "      <td>3299.40</td>\n",
       "      <td>0.11063</td>\n",
       "      <td>2.3129</td>\n",
       "      <td>0.024526</td>\n",
       "      <td>0.018876</td>\n",
       "      <td>86.317</td>\n",
       "      <td>0.62795</td>\n",
       "      <td>0.055446</td>\n",
       "      <td>0.018876</td>\n",
       "      <td>0.56944</td>\n",
       "      <td>0.56453</td>\n",
       "      <td>0.11063</td>\n",
       "      <td>0.44844</td>\n",
       "      <td>0.73869</td>\n",
       "      <td>4.2600</td>\n",
       "      <td>0.286240</td>\n",
       "      <td>0.018876</td>\n",
       "      <td>103.810</td>\n",
       "      <td>3.5161</td>\n",
       "      <td>0.12824</td>\n",
       "      <td>0.055446</td>\n",
       "      <td>1.3068</td>\n",
       "      <td>3.9624</td>\n",
       "      <td>0.64524</td>\n",
       "      <td>0.042673</td>\n",
       "      <td>0.178260</td>\n",
       "      <td>0.180500</td>\n",
       "      <td>0.042673</td>\n",
       "      <td>158.550</td>\n",
       "      <td>72.237</td>\n",
       "      <td>0.079819</td>\n",
       "      <td>0.90954</td>\n",
       "      <td>90.707</td>\n",
       "      <td>0.032141</td>\n",
       "      <td>0.024737</td>\n",
       "      <td>1.4504</td>\n",
       "      <td>0.35164</td>\n",
       "      <td>0.28440</td>\n",
       "      <td>1.5139</td>\n",
       "      <td>1.7303</td>\n",
       "      <td>5012.6</td>\n",
       "      <td>0.048398</td>\n",
       "      <td>0.043445</td>\n",
       "      <td>0.95160</td>\n",
       "      <td>0.142980</td>\n",
       "      <td>4.2286</td>\n",
       "      <td>5.0528</td>\n",
       "      <td>98.783</td>\n",
       "      <td>3.6950</td>\n",
       "      <td>3.4844</td>\n",
       "      <td>b'0'</td>\n",
       "    </tr>\n",
       "    <tr>\n",
       "      <th>4</th>\n",
       "      <td>0.188290</td>\n",
       "      <td>0.41504</td>\n",
       "      <td>0.34231</td>\n",
       "      <td>1.9279</td>\n",
       "      <td>-58.2740</td>\n",
       "      <td>0.00000</td>\n",
       "      <td>0.233580</td>\n",
       "      <td>1.4094</td>\n",
       "      <td>1.3393</td>\n",
       "      <td>0.58496</td>\n",
       "      <td>0.238810</td>\n",
       "      <td>0.633170</td>\n",
       "      <td>0.187800</td>\n",
       "      <td>0.233580</td>\n",
       "      <td>602.31</td>\n",
       "      <td>0.60600</td>\n",
       "      <td>2.4094</td>\n",
       "      <td>0.233580</td>\n",
       "      <td>0.174410</td>\n",
       "      <td>140.860</td>\n",
       "      <td>1.20390</td>\n",
       "      <td>0.234930</td>\n",
       "      <td>0.140590</td>\n",
       "      <td>0.00000</td>\n",
       "      <td>0.57250</td>\n",
       "      <td>0.49687</td>\n",
       "      <td>44.94700</td>\n",
       "      <td>1.18530</td>\n",
       "      <td>4.6033</td>\n",
       "      <td>0.306910</td>\n",
       "      <td>0.177840</td>\n",
       "      <td>122.090</td>\n",
       "      <td>2.9897</td>\n",
       "      <td>2.65740</td>\n",
       "      <td>0.236350</td>\n",
       "      <td>1.3393</td>\n",
       "      <td>4.5490</td>\n",
       "      <td>0.62769</td>\n",
       "      <td>0.176480</td>\n",
       "      <td>0.013769</td>\n",
       "      <td>0.054712</td>\n",
       "      <td>0.175420</td>\n",
       "      <td>192.450</td>\n",
       "      <td>51.585</td>\n",
       "      <td>0.364290</td>\n",
       "      <td>0.52685</td>\n",
       "      <td>171.050</td>\n",
       "      <td>0.216990</td>\n",
       "      <td>0.162030</td>\n",
       "      <td>1.7136</td>\n",
       "      <td>0.36891</td>\n",
       "      <td>0.33449</td>\n",
       "      <td>2.0256</td>\n",
       "      <td>2.1735</td>\n",
       "      <td>13730.0</td>\n",
       "      <td>0.176480</td>\n",
       "      <td>0.321880</td>\n",
       "      <td>0.82635</td>\n",
       "      <td>0.073039</td>\n",
       "      <td>2.5912</td>\n",
       "      <td>7.0756</td>\n",
       "      <td>100.540</td>\n",
       "      <td>3.6303</td>\n",
       "      <td>4.6375</td>\n",
       "      <td>b'0'</td>\n",
       "    </tr>\n",
       "  </tbody>\n",
       "</table>\n",
       "</div>"
      ],
      "text/plain": [
       "      Attr1    Attr2    Attr3   Attr4    Attr5    Attr6     Attr7   Attr8  \\\n",
       "0  0.174190  0.41299  0.14371  1.3480 -28.9820  0.60383  0.219460  1.1225   \n",
       "1  0.146240  0.46038  0.28230  1.6294   2.5952  0.00000  0.171850  1.1721   \n",
       "2  0.000595  0.22612  0.48839  3.1599  84.8740  0.19114  0.004572  2.9881   \n",
       "3  0.024526  0.43236  0.27546  1.7833 -10.1050  0.56944  0.024526  1.3057   \n",
       "4  0.188290  0.41504  0.34231  1.9279 -58.2740  0.00000  0.233580  1.4094   \n",
       "\n",
       "    Attr9   Attr10    Attr11    Attr12    Attr13    Attr14   Attr15   Attr16  \\\n",
       "0  1.1961  0.46359  0.219460  0.531390  0.142330  0.219460   592.24  0.61630   \n",
       "1  1.6018  0.53962  0.175790  0.383170  0.126470  0.171850   829.46  0.44004   \n",
       "2  1.0077  0.67566  0.004572  0.020219  0.030966  0.004572  2094.10  0.17430   \n",
       "3  1.0509  0.56453  0.024526  0.069747  0.036812  0.024526  3299.40  0.11063   \n",
       "4  1.3393  0.58496  0.238810  0.633170  0.187800  0.233580   602.31  0.60600   \n",
       "\n",
       "   Attr17    Attr18    Attr19   Attr20   Attr21    Attr22    Attr23   Attr24  \\\n",
       "0  2.4213  0.219460  0.122720   37.573  0.99690  0.295100  0.097402  0.75641   \n",
       "1  2.1721  0.171850  0.107280   60.954  5.08890  0.175710  0.091295      NaN   \n",
       "2  4.4225  0.004572  0.003592   53.881  0.67451  0.040610  0.000468  0.23470   \n",
       "3  2.3129  0.024526  0.018876   86.317  0.62795  0.055446  0.018876  0.56944   \n",
       "4  2.4094  0.233580  0.174410  140.860  1.20390  0.234930  0.140590  0.00000   \n",
       "\n",
       "    Attr25   Attr26    Attr27   Attr28  Attr29    Attr30    Attr31   Attr32  \\\n",
       "0  0.46359  0.50669   1.97370  0.32417  5.9473  0.224930  0.122720  100.820   \n",
       "1  0.17523  0.38442  44.59300  1.04860  4.0792  0.243840  0.109740  105.090   \n",
       "2  0.67566  0.15672   0.32153  1.71070  4.6220  0.036196  0.003592   65.345   \n",
       "3  0.56453  0.11063   0.44844  0.73869  4.2600  0.286240  0.018876  103.810   \n",
       "4  0.57250  0.49687  44.94700  1.18530  4.6033  0.306910  0.177840  122.090   \n",
       "\n",
       "   Attr33   Attr34    Attr35  Attr36       Attr37   Attr38    Attr39  \\\n",
       "0  3.6203  0.71453  0.295100  1.8079  123140.0000  0.46359  0.165010   \n",
       "1  3.4733  3.38360  0.044076  1.6018          NaN  0.53962  0.027516   \n",
       "2  5.5857  0.17960  0.040610  1.3425          NaN  0.67566  0.031907   \n",
       "3  3.5161  0.12824  0.055446  1.3068       3.9624  0.64524  0.042673   \n",
       "4  2.9897  2.65740  0.236350  1.3393       4.5490  0.62769  0.176480   \n",
       "\n",
       "     Attr40    Attr41    Attr42   Attr43  Attr44    Attr45   Attr46   Attr47  \\\n",
       "0  0.212820  0.041124  0.165010   95.682  58.109  0.946210  0.90221   44.941   \n",
       "1  0.164060  0.074333  0.109690  149.750  88.801  0.546690  1.03300   62.678   \n",
       "2  0.844690  0.098528  0.031907  150.130  96.251  0.003168  2.32900   54.296   \n",
       "3  0.178260  0.180500  0.042673  158.550  72.237  0.079819  0.90954   90.707   \n",
       "4  0.013769  0.054712  0.175420  192.450  51.585  0.364290  0.52685  171.050   \n",
       "\n",
       "     Attr48    Attr49  Attr50   Attr51   Attr52  Attr53  Attr54    Attr55  \\\n",
       "0  0.260030  0.145400  1.3480  0.41299  0.27622  1.0457  1.0458  127280.0   \n",
       "1  0.144970  0.090503  1.5874  0.44849  0.28791  2.0044  2.0044    3387.8   \n",
       "2  0.005769  0.004533  3.1599  0.22612  0.17903  2.3667  2.3667   20453.0   \n",
       "3  0.032141  0.024737  1.4504  0.35164  0.28440  1.5139  1.7303    5012.6   \n",
       "4  0.216990  0.162030  1.7136  0.36891  0.33449  2.0256  2.1735   13730.0   \n",
       "\n",
       "     Attr56    Attr57   Attr58    Attr59  Attr60  Attr61   Attr62  Attr63  \\\n",
       "0  0.163960  0.375740  0.83604  0.000007  9.7145  6.2813   84.291  4.3303   \n",
       "1  0.027516  0.271000  0.90108  0.000000  5.9882  4.1103  102.190  3.5716   \n",
       "2  0.007639  0.000881  0.99236  0.000000  6.7742  3.7922   64.846  5.6287   \n",
       "3  0.048398  0.043445  0.95160  0.142980  4.2286  5.0528   98.783  3.6950   \n",
       "4  0.176480  0.321880  0.82635  0.073039  2.5912  7.0756  100.540  3.6303   \n",
       "\n",
       "   Attr64 class  \n",
       "0  4.0341  b'0'  \n",
       "1  5.9500  b'0'  \n",
       "2  4.4581  b'0'  \n",
       "3  3.4844  b'0'  \n",
       "4  4.6375  b'0'  "
      ]
     },
     "execution_count": 4,
     "metadata": {},
     "output_type": "execute_result"
    }
   ],
   "source": [
    "df1.head()"
   ]
  },
  {
   "cell_type": "markdown",
   "id": "46b6a313",
   "metadata": {},
   "source": [
    "# Train - Test Splitting:-"
   ]
  },
  {
   "cell_type": "code",
   "execution_count": 5,
   "id": "00f7a8a2",
   "metadata": {},
   "outputs": [],
   "source": [
    "from sklearn.model_selection import train_test_split"
   ]
  },
  {
   "cell_type": "code",
   "execution_count": 6,
   "id": "f400b9cf",
   "metadata": {},
   "outputs": [],
   "source": [
    "df_train,df_test = train_test_split(df1,test_size=0.2,random_state=42,stratify=df1['class'])"
   ]
  },
  {
   "cell_type": "code",
   "execution_count": 7,
   "id": "cca1fb37",
   "metadata": {},
   "outputs": [
    {
     "data": {
      "text/plain": [
       "b'0'    10008\n",
       "b'1'      495\n",
       "Name: class, dtype: int64"
      ]
     },
     "execution_count": 7,
     "metadata": {},
     "output_type": "execute_result"
    }
   ],
   "source": [
    "df1['class'].value_counts()"
   ]
  },
  {
   "cell_type": "code",
   "execution_count": 8,
   "id": "a57806a1",
   "metadata": {},
   "outputs": [],
   "source": [
    "def change_to_numeric(df):\n",
    "    df.iloc[:,-1]=pd.to_numeric(df.iloc[:,-1])\n",
    "    df.info()"
   ]
  },
  {
   "cell_type": "code",
   "execution_count": 9,
   "id": "b8ddf071",
   "metadata": {},
   "outputs": [
    {
     "name": "stdout",
     "output_type": "stream",
     "text": [
      "<class 'pandas.core.frame.DataFrame'>\n",
      "Int64Index: 8402 entries, 1805 to 5744\n",
      "Data columns (total 65 columns):\n",
      " #   Column  Non-Null Count  Dtype  \n",
      "---  ------  --------------  -----  \n",
      " 0   Attr1   8402 non-null   float64\n",
      " 1   Attr2   8402 non-null   float64\n",
      " 2   Attr3   8402 non-null   float64\n",
      " 3   Attr4   8389 non-null   float64\n",
      " 4   Attr5   8383 non-null   float64\n",
      " 5   Attr6   8402 non-null   float64\n",
      " 6   Attr7   8402 non-null   float64\n",
      " 7   Attr8   8392 non-null   float64\n",
      " 8   Attr9   8399 non-null   float64\n",
      " 9   Attr10  8402 non-null   float64\n",
      " 10  Attr11  8402 non-null   float64\n",
      " 11  Attr12  8389 non-null   float64\n",
      " 12  Attr13  8367 non-null   float64\n",
      " 13  Attr14  8402 non-null   float64\n",
      " 14  Attr15  8395 non-null   float64\n",
      " 15  Attr16  8392 non-null   float64\n",
      " 16  Attr17  8392 non-null   float64\n",
      " 17  Attr18  8402 non-null   float64\n",
      " 18  Attr19  8367 non-null   float64\n",
      " 19  Attr20  8367 non-null   float64\n",
      " 20  Attr21  7744 non-null   float64\n",
      " 21  Attr22  8402 non-null   float64\n",
      " 22  Attr23  8367 non-null   float64\n",
      " 23  Attr24  8211 non-null   float64\n",
      " 24  Attr25  8402 non-null   float64\n",
      " 25  Attr26  8392 non-null   float64\n",
      " 26  Attr27  7838 non-null   float64\n",
      " 27  Attr28  8225 non-null   float64\n",
      " 28  Attr29  8402 non-null   float64\n",
      " 29  Attr30  8367 non-null   float64\n",
      " 30  Attr31  8367 non-null   float64\n",
      " 31  Attr32  8321 non-null   float64\n",
      " 32  Attr33  8389 non-null   float64\n",
      " 33  Attr34  8392 non-null   float64\n",
      " 34  Attr35  8402 non-null   float64\n",
      " 35  Attr36  8402 non-null   float64\n",
      " 36  Attr37  4631 non-null   float64\n",
      " 37  Attr38  8402 non-null   float64\n",
      " 38  Attr39  8367 non-null   float64\n",
      " 39  Attr40  8389 non-null   float64\n",
      " 40  Attr41  8241 non-null   float64\n",
      " 41  Attr42  8367 non-null   float64\n",
      " 42  Attr43  8367 non-null   float64\n",
      " 43  Attr44  8367 non-null   float64\n",
      " 44  Attr45  7927 non-null   float64\n",
      " 45  Attr46  8389 non-null   float64\n",
      " 46  Attr47  8335 non-null   float64\n",
      " 47  Attr48  8402 non-null   float64\n",
      " 48  Attr49  8367 non-null   float64\n",
      " 49  Attr50  8392 non-null   float64\n",
      " 50  Attr51  8402 non-null   float64\n",
      " 51  Attr52  8334 non-null   float64\n",
      " 52  Attr53  8225 non-null   float64\n",
      " 53  Attr54  8225 non-null   float64\n",
      " 54  Attr55  8402 non-null   float64\n",
      " 55  Attr56  8367 non-null   float64\n",
      " 56  Attr57  8402 non-null   float64\n",
      " 57  Attr58  8379 non-null   float64\n",
      " 58  Attr59  8402 non-null   float64\n",
      " 59  Attr60  7926 non-null   float64\n",
      " 60  Attr61  8388 non-null   float64\n",
      " 61  Attr62  8367 non-null   float64\n",
      " 62  Attr63  8389 non-null   float64\n",
      " 63  Attr64  8225 non-null   float64\n",
      " 64  class   8402 non-null   int64  \n",
      "dtypes: float64(64), int64(1)\n",
      "memory usage: 4.2 MB\n",
      "<class 'pandas.core.frame.DataFrame'>\n",
      "Int64Index: 2101 entries, 2717 to 9008\n",
      "Data columns (total 65 columns):\n",
      " #   Column  Non-Null Count  Dtype  \n",
      "---  ------  --------------  -----  \n",
      " 0   Attr1   2101 non-null   float64\n",
      " 1   Attr2   2101 non-null   float64\n",
      " 2   Attr3   2101 non-null   float64\n",
      " 3   Attr4   2096 non-null   float64\n",
      " 4   Attr5   2095 non-null   float64\n",
      " 5   Attr6   2101 non-null   float64\n",
      " 6   Attr7   2101 non-null   float64\n",
      " 7   Attr8   2097 non-null   float64\n",
      " 8   Attr9   2101 non-null   float64\n",
      " 9   Attr10  2101 non-null   float64\n",
      " 10  Attr11  2101 non-null   float64\n",
      " 11  Attr12  2096 non-null   float64\n",
      " 12  Attr13  2093 non-null   float64\n",
      " 13  Attr14  2101 non-null   float64\n",
      " 14  Attr15  2100 non-null   float64\n",
      " 15  Attr16  2097 non-null   float64\n",
      " 16  Attr17  2097 non-null   float64\n",
      " 17  Attr18  2101 non-null   float64\n",
      " 18  Attr19  2093 non-null   float64\n",
      " 19  Attr20  2093 non-null   float64\n",
      " 20  Attr21  1952 non-null   float64\n",
      " 21  Attr22  2101 non-null   float64\n",
      " 22  Attr23  2093 non-null   float64\n",
      " 23  Attr24  2065 non-null   float64\n",
      " 24  Attr25  2101 non-null   float64\n",
      " 25  Attr26  2097 non-null   float64\n",
      " 26  Attr27  1950 non-null   float64\n",
      " 27  Attr28  2050 non-null   float64\n",
      " 28  Attr29  2101 non-null   float64\n",
      " 29  Attr30  2093 non-null   float64\n",
      " 30  Attr31  2093 non-null   float64\n",
      " 31  Attr32  2081 non-null   float64\n",
      " 32  Attr33  2096 non-null   float64\n",
      " 33  Attr34  2097 non-null   float64\n",
      " 34  Attr35  2101 non-null   float64\n",
      " 35  Attr36  2101 non-null   float64\n",
      " 36  Attr37  1136 non-null   float64\n",
      " 37  Attr38  2101 non-null   float64\n",
      " 38  Attr39  2093 non-null   float64\n",
      " 39  Attr40  2096 non-null   float64\n",
      " 40  Attr41  2060 non-null   float64\n",
      " 41  Attr42  2093 non-null   float64\n",
      " 42  Attr43  2093 non-null   float64\n",
      " 43  Attr44  2093 non-null   float64\n",
      " 44  Attr45  1985 non-null   float64\n",
      " 45  Attr46  2096 non-null   float64\n",
      " 46  Attr47  2082 non-null   float64\n",
      " 47  Attr48  2101 non-null   float64\n",
      " 48  Attr49  2093 non-null   float64\n",
      " 49  Attr50  2097 non-null   float64\n",
      " 50  Attr51  2101 non-null   float64\n",
      " 51  Attr52  2083 non-null   float64\n",
      " 52  Attr53  2050 non-null   float64\n",
      " 53  Attr54  2050 non-null   float64\n",
      " 54  Attr55  2101 non-null   float64\n",
      " 55  Attr56  2093 non-null   float64\n",
      " 56  Attr57  2101 non-null   float64\n",
      " 57  Attr58  2095 non-null   float64\n",
      " 58  Attr59  2101 non-null   float64\n",
      " 59  Attr60  1985 non-null   float64\n",
      " 60  Attr61  2098 non-null   float64\n",
      " 61  Attr62  2093 non-null   float64\n",
      " 62  Attr63  2096 non-null   float64\n",
      " 63  Attr64  2050 non-null   float64\n",
      " 64  class   2101 non-null   int64  \n",
      "dtypes: float64(64), int64(1)\n",
      "memory usage: 1.1 MB\n"
     ]
    }
   ],
   "source": [
    "change_to_numeric(df_train)\n",
    "change_to_numeric(df_test)"
   ]
  },
  {
   "cell_type": "markdown",
   "id": "176e717b",
   "metadata": {},
   "source": [
    "# Data Standardization:-"
   ]
  },
  {
   "cell_type": "code",
   "execution_count": 13,
   "id": "f619a4d4",
   "metadata": {},
   "outputs": [],
   "source": [
    "def stand(df):\n",
    "    # define standard scaler\n",
    "    scaler = StandardScaler()\n",
    "    # transform data\n",
    "    scaled = scaler.fit_transform(df)\n",
    "    scaled=pd.DataFrame(scaled)\n",
    "    labels=[]\n",
    "    for i in range(1,66):\n",
    "        if(i!=65):\n",
    "            labels.append(\"Attr\"+str(i))\n",
    "        else:\n",
    "            labels.append('class')\n",
    "    response = df_train['class'].astype(np.int64)\n",
    "    scaled.columns=labels\n",
    "    i=scaled.loc[scaled['class']>0]['class'].index\n",
    "    scaled.loc[i,'class']=scaled.loc[i,'class']/4\n",
    "    scaled.loc[:,'class']=scaled.loc[:,'class'].astype(np.int64)\n",
    "    return scaled"
   ]
  },
  {
   "cell_type": "code",
   "execution_count": 14,
   "id": "f48284b3",
   "metadata": {},
   "outputs": [],
   "source": [
    "df_train_scaled=stand(df_train)\n",
    "df_test_scaled=stand(df_test)"
   ]
  },
  {
   "cell_type": "markdown",
   "id": "fb2760b4",
   "metadata": {},
   "source": [
    "# Handling Missing Values:-"
   ]
  },
  {
   "cell_type": "code",
   "execution_count": 10,
   "id": "731e17ba",
   "metadata": {},
   "outputs": [
    {
     "data": {
      "image/png": "[encoded data removed]",
      "text/plain": [
       "<Figure size 1800x360 with 1 Axes>"
      ]
     },
     "metadata": {
      "needs_background": "light"
     },
     "output_type": "display_data"
    }
   ],
   "source": [
    "def sparsity_plot(df1_train):\n",
    "    fig,ax = plt.subplots(figsize=(25,5))\n",
    "    sns.heatmap(df1_train.isnull(),cbar=False,ax=ax)\n",
    "    \n",
    "sparsity_plot(df_train)"
   ]
  },
  {
   "cell_type": "code",
   "execution_count": 11,
   "id": "e36c5d2f",
   "metadata": {},
   "outputs": [
    {
     "data": {
      "text/html": [
       "<div>\n",
       "<style scoped>\n",
       "    .dataframe tbody tr th:only-of-type {\n",
       "        vertical-align: middle;\n",
       "    }\n",
       "\n",
       "    .dataframe tbody tr th {\n",
       "        vertical-align: top;\n",
       "    }\n",
       "\n",
       "    .dataframe thead th {\n",
       "        text-align: right;\n",
       "    }\n",
       "</style>\n",
       "<table border=\"1\" class=\"dataframe\">\n",
       "  <thead>\n",
       "    <tr style=\"text-align: right;\">\n",
       "      <th></th>\n",
       "      <th>Attr1</th>\n",
       "      <th>Attr2</th>\n",
       "      <th>Attr3</th>\n",
       "      <th>Attr4</th>\n",
       "      <th>Attr5</th>\n",
       "      <th>Attr6</th>\n",
       "      <th>Attr7</th>\n",
       "      <th>Attr8</th>\n",
       "      <th>Attr9</th>\n",
       "      <th>Attr10</th>\n",
       "      <th>Attr11</th>\n",
       "      <th>Attr12</th>\n",
       "      <th>Attr13</th>\n",
       "      <th>Attr14</th>\n",
       "      <th>Attr15</th>\n",
       "      <th>Attr16</th>\n",
       "      <th>Attr17</th>\n",
       "      <th>Attr18</th>\n",
       "      <th>Attr19</th>\n",
       "      <th>Attr20</th>\n",
       "      <th>Attr21</th>\n",
       "      <th>Attr22</th>\n",
       "      <th>Attr23</th>\n",
       "      <th>Attr24</th>\n",
       "      <th>Attr25</th>\n",
       "      <th>Attr26</th>\n",
       "      <th>Attr27</th>\n",
       "      <th>Attr28</th>\n",
       "      <th>Attr29</th>\n",
       "      <th>Attr30</th>\n",
       "      <th>Attr31</th>\n",
       "      <th>Attr32</th>\n",
       "      <th>Attr33</th>\n",
       "      <th>Attr34</th>\n",
       "      <th>Attr35</th>\n",
       "      <th>Attr36</th>\n",
       "      <th>Attr37</th>\n",
       "      <th>Attr38</th>\n",
       "      <th>Attr39</th>\n",
       "      <th>Attr40</th>\n",
       "      <th>Attr41</th>\n",
       "      <th>Attr42</th>\n",
       "      <th>Attr43</th>\n",
       "      <th>Attr44</th>\n",
       "      <th>Attr45</th>\n",
       "      <th>Attr46</th>\n",
       "      <th>Attr47</th>\n",
       "      <th>Attr48</th>\n",
       "      <th>Attr49</th>\n",
       "      <th>Attr50</th>\n",
       "      <th>Attr51</th>\n",
       "      <th>Attr52</th>\n",
       "      <th>Attr53</th>\n",
       "      <th>Attr54</th>\n",
       "      <th>Attr55</th>\n",
       "      <th>Attr56</th>\n",
       "      <th>Attr57</th>\n",
       "      <th>Attr58</th>\n",
       "      <th>Attr59</th>\n",
       "      <th>Attr60</th>\n",
       "      <th>Attr61</th>\n",
       "      <th>Attr62</th>\n",
       "      <th>Attr63</th>\n",
       "      <th>Attr64</th>\n",
       "      <th>class</th>\n",
       "    </tr>\n",
       "  </thead>\n",
       "  <tbody>\n",
       "    <tr>\n",
       "      <th>count</th>\n",
       "      <td>8402.000000</td>\n",
       "      <td>8402.000000</td>\n",
       "      <td>8402.000000</td>\n",
       "      <td>8389.000000</td>\n",
       "      <td>8.383000e+03</td>\n",
       "      <td>8402.000000</td>\n",
       "      <td>8402.000000</td>\n",
       "      <td>8392.000000</td>\n",
       "      <td>8399.00000</td>\n",
       "      <td>8402.000000</td>\n",
       "      <td>8402.000000</td>\n",
       "      <td>8389.000000</td>\n",
       "      <td>8367.000000</td>\n",
       "      <td>8402.000000</td>\n",
       "      <td>8.395000e+03</td>\n",
       "      <td>8392.000000</td>\n",
       "      <td>8392.000000</td>\n",
       "      <td>8402.000000</td>\n",
       "      <td>8367.000000</td>\n",
       "      <td>8367.000000</td>\n",
       "      <td>7744.000000</td>\n",
       "      <td>8402.000000</td>\n",
       "      <td>8367.000000</td>\n",
       "      <td>8211.000000</td>\n",
       "      <td>8402.000000</td>\n",
       "      <td>8392.000000</td>\n",
       "      <td>7.838000e+03</td>\n",
       "      <td>8225.000000</td>\n",
       "      <td>8402.000000</td>\n",
       "      <td>8367.000000</td>\n",
       "      <td>8367.000000</td>\n",
       "      <td>8.321000e+03</td>\n",
       "      <td>8389.000000</td>\n",
       "      <td>8392.000000</td>\n",
       "      <td>8402.000000</td>\n",
       "      <td>8402.000000</td>\n",
       "      <td>4631.000000</td>\n",
       "      <td>8402.000000</td>\n",
       "      <td>8367.000000</td>\n",
       "      <td>8389.000000</td>\n",
       "      <td>8241.000000</td>\n",
       "      <td>8367.000000</td>\n",
       "      <td>8367.000000</td>\n",
       "      <td>8367.000000</td>\n",
       "      <td>7927.000000</td>\n",
       "      <td>8389.000000</td>\n",
       "      <td>8.335000e+03</td>\n",
       "      <td>8402.000000</td>\n",
       "      <td>8367.000000</td>\n",
       "      <td>8392.000000</td>\n",
       "      <td>8402.000000</td>\n",
       "      <td>8334.000000</td>\n",
       "      <td>8225.000000</td>\n",
       "      <td>8225.000000</td>\n",
       "      <td>8.402000e+03</td>\n",
       "      <td>8367.000000</td>\n",
       "      <td>8402.000000</td>\n",
       "      <td>8379.000000</td>\n",
       "      <td>8402.000000</td>\n",
       "      <td>7.926000e+03</td>\n",
       "      <td>8388.000000</td>\n",
       "      <td>8367.000000</td>\n",
       "      <td>8389.000000</td>\n",
       "      <td>8225.000000</td>\n",
       "      <td>8402.000000</td>\n",
       "    </tr>\n",
       "    <tr>\n",
       "      <th>mean</th>\n",
       "      <td>0.054847</td>\n",
       "      <td>0.588978</td>\n",
       "      <td>0.129347</td>\n",
       "      <td>11.308973</td>\n",
       "      <td>-1.764028e+03</td>\n",
       "      <td>-0.087670</td>\n",
       "      <td>0.067418</td>\n",
       "      <td>16.054715</td>\n",
       "      <td>1.82838</td>\n",
       "      <td>0.397535</td>\n",
       "      <td>0.088962</td>\n",
       "      <td>1.935428</td>\n",
       "      <td>0.419023</td>\n",
       "      <td>0.067431</td>\n",
       "      <td>3.204069e+03</td>\n",
       "      <td>2.103678</td>\n",
       "      <td>17.500934</td>\n",
       "      <td>0.073812</td>\n",
       "      <td>-0.248363</td>\n",
       "      <td>62.258834</td>\n",
       "      <td>5.557531</td>\n",
       "      <td>0.077978</td>\n",
       "      <td>-0.253424</td>\n",
       "      <td>0.219876</td>\n",
       "      <td>0.228901</td>\n",
       "      <td>1.939756</td>\n",
       "      <td>1.143300e+03</td>\n",
       "      <td>6.629665</td>\n",
       "      <td>3.919917</td>\n",
       "      <td>0.805050</td>\n",
       "      <td>-0.236592</td>\n",
       "      <td>1.388640e+03</td>\n",
       "      <td>8.256637</td>\n",
       "      <td>5.483663</td>\n",
       "      <td>0.074246</td>\n",
       "      <td>1.983730</td>\n",
       "      <td>83.018356</td>\n",
       "      <td>0.500004</td>\n",
       "      <td>-0.132608</td>\n",
       "      <td>2.439891</td>\n",
       "      <td>35.723698</td>\n",
       "      <td>-0.200886</td>\n",
       "      <td>194.601331</td>\n",
       "      <td>132.342340</td>\n",
       "      <td>23.553849</td>\n",
       "      <td>10.289031</td>\n",
       "      <td>6.495088e+02</td>\n",
       "      <td>0.006799</td>\n",
       "      <td>-0.279191</td>\n",
       "      <td>9.940061</td>\n",
       "      <td>0.462176</td>\n",
       "      <td>13.853875</td>\n",
       "      <td>6.080295</td>\n",
       "      <td>7.247296</td>\n",
       "      <td>6.288117e+03</td>\n",
       "      <td>-0.029447</td>\n",
       "      <td>0.032885</td>\n",
       "      <td>3.414699</td>\n",
       "      <td>1.660515</td>\n",
       "      <td>6.390950e+02</td>\n",
       "      <td>14.266036</td>\n",
       "      <td>277.043245</td>\n",
       "      <td>9.061467</td>\n",
       "      <td>38.013129</td>\n",
       "      <td>0.047132</td>\n",
       "    </tr>\n",
       "    <tr>\n",
       "      <th>std</th>\n",
       "      <td>0.705906</td>\n",
       "      <td>4.913137</td>\n",
       "      <td>4.905252</td>\n",
       "      <td>585.295212</td>\n",
       "      <td>1.323300e+05</td>\n",
       "      <td>5.471911</td>\n",
       "      <td>0.709017</td>\n",
       "      <td>675.340779</td>\n",
       "      <td>8.40540</td>\n",
       "      <td>4.915815</td>\n",
       "      <td>0.713999</td>\n",
       "      <td>83.890318</td>\n",
       "      <td>55.518390</td>\n",
       "      <td>0.709016</td>\n",
       "      <td>1.216060e+05</td>\n",
       "      <td>83.572191</td>\n",
       "      <td>680.675845</td>\n",
       "      <td>0.919193</td>\n",
       "      <td>12.428827</td>\n",
       "      <td>682.431099</td>\n",
       "      <td>342.266905</td>\n",
       "      <td>0.635466</td>\n",
       "      <td>12.360156</td>\n",
       "      <td>2.229882</td>\n",
       "      <td>5.181163</td>\n",
       "      <td>81.199225</td>\n",
       "      <td>3.409121e+04</td>\n",
       "      <td>104.095424</td>\n",
       "      <td>0.835511</td>\n",
       "      <td>22.895986</td>\n",
       "      <td>12.426631</td>\n",
       "      <td>7.644385e+04</td>\n",
       "      <td>26.928841</td>\n",
       "      <td>76.378792</td>\n",
       "      <td>0.622324</td>\n",
       "      <td>2.741026</td>\n",
       "      <td>1875.706821</td>\n",
       "      <td>4.910074</td>\n",
       "      <td>8.438313</td>\n",
       "      <td>41.306442</td>\n",
       "      <td>3181.085331</td>\n",
       "      <td>11.912042</td>\n",
       "      <td>3242.124557</td>\n",
       "      <td>2985.753437</td>\n",
       "      <td>1894.681438</td>\n",
       "      <td>585.172751</td>\n",
       "      <td>3.492582e+04</td>\n",
       "      <td>0.680207</td>\n",
       "      <td>13.151382</td>\n",
       "      <td>584.060903</td>\n",
       "      <td>4.902443</td>\n",
       "      <td>952.360451</td>\n",
       "      <td>98.684745</td>\n",
       "      <td>102.990880</td>\n",
       "      <td>5.722685e+04</td>\n",
       "      <td>5.936958</td>\n",
       "      <td>20.490525</td>\n",
       "      <td>198.503181</td>\n",
       "      <td>86.322725</td>\n",
       "      <td>4.137726e+04</td>\n",
       "      <td>89.235008</td>\n",
       "      <td>7255.146439</td>\n",
       "      <td>29.760936</td>\n",
       "      <td>460.467365</td>\n",
       "      <td>0.211933</td>\n",
       "    </tr>\n",
       "    <tr>\n",
       "      <th>min</th>\n",
       "      <td>-17.692000</td>\n",
       "      <td>0.000000</td>\n",
       "      <td>-445.880000</td>\n",
       "      <td>0.002238</td>\n",
       "      <td>-1.190300e+07</td>\n",
       "      <td>-486.720000</td>\n",
       "      <td>-17.692000</td>\n",
       "      <td>-2.081800</td>\n",
       "      <td>-1.21570</td>\n",
       "      <td>-445.860000</td>\n",
       "      <td>-17.692000</td>\n",
       "      <td>-274.570000</td>\n",
       "      <td>-631.710000</td>\n",
       "      <td>-17.692000</td>\n",
       "      <td>-2.321800e+06</td>\n",
       "      <td>-204.300000</td>\n",
       "      <td>-0.043411</td>\n",
       "      <td>-17.692000</td>\n",
       "      <td>-771.650000</td>\n",
       "      <td>-0.001439</td>\n",
       "      <td>-0.186360</td>\n",
       "      <td>-17.692000</td>\n",
       "      <td>-771.650000</td>\n",
       "      <td>-44.197000</td>\n",
       "      <td>-466.290000</td>\n",
       "      <td>-204.300000</td>\n",
       "      <td>-4.111900e+04</td>\n",
       "      <td>-690.400000</td>\n",
       "      <td>-0.358530</td>\n",
       "      <td>-495.410000</td>\n",
       "      <td>-771.390000</td>\n",
       "      <td>-9.295600e+03</td>\n",
       "      <td>-1.921900</td>\n",
       "      <td>-1696.000000</td>\n",
       "      <td>-17.073000</td>\n",
       "      <td>0.000000</td>\n",
       "      <td>-2.200900</td>\n",
       "      <td>-445.860000</td>\n",
       "      <td>-551.110000</td>\n",
       "      <td>-7.081900</td>\n",
       "      <td>-667.730000</td>\n",
       "      <td>-765.800000</td>\n",
       "      <td>-0.293730</td>\n",
       "      <td>0.000000</td>\n",
       "      <td>-74385.000000</td>\n",
       "      <td>-6.469200</td>\n",
       "      <td>-1.730300e+01</td>\n",
       "      <td>-17.692000</td>\n",
       "      <td>-905.750000</td>\n",
       "      <td>0.002238</td>\n",
       "      <td>0.000000</td>\n",
       "      <td>-25.467000</td>\n",
       "      <td>-869.040000</td>\n",
       "      <td>-706.490000</td>\n",
       "      <td>-7.513800e+05</td>\n",
       "      <td>-529.350000</td>\n",
       "      <td>-1667.300000</td>\n",
       "      <td>-198.690000</td>\n",
       "      <td>-172.070000</td>\n",
       "      <td>0.000000e+00</td>\n",
       "      <td>0.000000</td>\n",
       "      <td>0.000000</td>\n",
       "      <td>0.000000</td>\n",
       "      <td>0.000000</td>\n",
       "      <td>0.000000</td>\n",
       "    </tr>\n",
       "    <tr>\n",
       "      <th>25%</th>\n",
       "      <td>0.000691</td>\n",
       "      <td>0.255532</td>\n",
       "      <td>0.015534</td>\n",
       "      <td>1.036500</td>\n",
       "      <td>-5.222450e+01</td>\n",
       "      <td>0.000000</td>\n",
       "      <td>0.002069</td>\n",
       "      <td>0.432820</td>\n",
       "      <td>1.00920</td>\n",
       "      <td>0.297382</td>\n",
       "      <td>0.009406</td>\n",
       "      <td>0.006092</td>\n",
       "      <td>0.020880</td>\n",
       "      <td>0.002090</td>\n",
       "      <td>1.871650e+02</td>\n",
       "      <td>0.060353</td>\n",
       "      <td>1.449725</td>\n",
       "      <td>0.002090</td>\n",
       "      <td>0.001576</td>\n",
       "      <td>14.199500</td>\n",
       "      <td>0.794960</td>\n",
       "      <td>0.000000</td>\n",
       "      <td>0.000549</td>\n",
       "      <td>0.013231</td>\n",
       "      <td>0.132547</td>\n",
       "      <td>0.054367</td>\n",
       "      <td>0.000000e+00</td>\n",
       "      <td>0.024419</td>\n",
       "      <td>3.393875</td>\n",
       "      <td>0.073344</td>\n",
       "      <td>0.003841</td>\n",
       "      <td>4.458900e+01</td>\n",
       "      <td>2.759800</td>\n",
       "      <td>0.356747</td>\n",
       "      <td>0.001591</td>\n",
       "      <td>1.036925</td>\n",
       "      <td>1.028500</td>\n",
       "      <td>0.428815</td>\n",
       "      <td>0.001371</td>\n",
       "      <td>0.055519</td>\n",
       "      <td>0.022354</td>\n",
       "      <td>0.000000</td>\n",
       "      <td>65.432000</td>\n",
       "      <td>34.162500</td>\n",
       "      <td>0.005889</td>\n",
       "      <td>0.606840</td>\n",
       "      <td>1.488800e+01</td>\n",
       "      <td>-0.049980</td>\n",
       "      <td>-0.037668</td>\n",
       "      <td>0.748105</td>\n",
       "      <td>0.176005</td>\n",
       "      <td>0.122237</td>\n",
       "      <td>0.659500</td>\n",
       "      <td>0.950420</td>\n",
       "      <td>1.195200e+01</td>\n",
       "      <td>0.004887</td>\n",
       "      <td>0.007037</td>\n",
       "      <td>0.874940</td>\n",
       "      <td>0.000000</td>\n",
       "      <td>5.545975e+00</td>\n",
       "      <td>4.492450</td>\n",
       "      <td>40.635000</td>\n",
       "      <td>3.057300</td>\n",
       "      <td>1.997600</td>\n",
       "      <td>0.000000</td>\n",
       "    </tr>\n",
       "    <tr>\n",
       "      <th>50%</th>\n",
       "      <td>0.042716</td>\n",
       "      <td>0.463860</td>\n",
       "      <td>0.197595</td>\n",
       "      <td>1.606600</td>\n",
       "      <td>1.778200e+00</td>\n",
       "      <td>0.000000</td>\n",
       "      <td>0.050569</td>\n",
       "      <td>1.109750</td>\n",
       "      <td>1.19210</td>\n",
       "      <td>0.515275</td>\n",
       "      <td>0.067697</td>\n",
       "      <td>0.155880</td>\n",
       "      <td>0.066782</td>\n",
       "      <td>0.050592</td>\n",
       "      <td>8.042600e+02</td>\n",
       "      <td>0.235065</td>\n",
       "      <td>2.154450</td>\n",
       "      <td>0.050592</td>\n",
       "      <td>0.031786</td>\n",
       "      <td>34.439000</td>\n",
       "      <td>0.953390</td>\n",
       "      <td>0.053714</td>\n",
       "      <td>0.027099</td>\n",
       "      <td>0.155660</td>\n",
       "      <td>0.374725</td>\n",
       "      <td>0.213330</td>\n",
       "      <td>1.045350e+00</td>\n",
       "      <td>0.455760</td>\n",
       "      <td>3.932900</td>\n",
       "      <td>0.217640</td>\n",
       "      <td>0.039843</td>\n",
       "      <td>7.750200e+01</td>\n",
       "      <td>4.683200</td>\n",
       "      <td>2.019300</td>\n",
       "      <td>0.052444</td>\n",
       "      <td>1.579400</td>\n",
       "      <td>2.675000</td>\n",
       "      <td>0.630150</td>\n",
       "      <td>0.033886</td>\n",
       "      <td>0.198920</td>\n",
       "      <td>0.079280</td>\n",
       "      <td>0.034508</td>\n",
       "      <td>99.197000</td>\n",
       "      <td>54.363000</td>\n",
       "      <td>0.257680</td>\n",
       "      <td>1.065600</td>\n",
       "      <td>3.711100e+01</td>\n",
       "      <td>0.008643</td>\n",
       "      <td>0.005605</td>\n",
       "      <td>1.225550</td>\n",
       "      <td>0.324315</td>\n",
       "      <td>0.211875</td>\n",
       "      <td>1.191800</td>\n",
       "      <td>1.369600</td>\n",
       "      <td>8.681500e+02</td>\n",
       "      <td>0.052046</td>\n",
       "      <td>0.104760</td>\n",
       "      <td>0.952930</td>\n",
       "      <td>0.003126</td>\n",
       "      <td>9.958200e+00</td>\n",
       "      <td>6.690100</td>\n",
       "      <td>70.494000</td>\n",
       "      <td>5.151600</td>\n",
       "      <td>4.021600</td>\n",
       "      <td>0.000000</td>\n",
       "    </tr>\n",
       "    <tr>\n",
       "      <th>75%</th>\n",
       "      <td>0.123448</td>\n",
       "      <td>0.689250</td>\n",
       "      <td>0.420228</td>\n",
       "      <td>2.953800</td>\n",
       "      <td>5.606300e+01</td>\n",
       "      <td>0.072553</td>\n",
       "      <td>0.140813</td>\n",
       "      <td>2.824825</td>\n",
       "      <td>2.05715</td>\n",
       "      <td>0.724808</td>\n",
       "      <td>0.159625</td>\n",
       "      <td>0.568870</td>\n",
       "      <td>0.133390</td>\n",
       "      <td>0.140813</td>\n",
       "      <td>2.170400e+03</td>\n",
       "      <td>0.644070</td>\n",
       "      <td>3.898025</td>\n",
       "      <td>0.140850</td>\n",
       "      <td>0.087405</td>\n",
       "      <td>63.617500</td>\n",
       "      <td>1.104650</td>\n",
       "      <td>0.144240</td>\n",
       "      <td>0.075855</td>\n",
       "      <td>0.368430</td>\n",
       "      <td>0.613433</td>\n",
       "      <td>0.589568</td>\n",
       "      <td>4.735000e+00</td>\n",
       "      <td>1.568500</td>\n",
       "      <td>4.450150</td>\n",
       "      <td>0.430545</td>\n",
       "      <td>0.098961</td>\n",
       "      <td>1.300100e+02</td>\n",
       "      <td>8.086200</td>\n",
       "      <td>4.778825</td>\n",
       "      <td>0.144613</td>\n",
       "      <td>2.380825</td>\n",
       "      <td>10.260500</td>\n",
       "      <td>0.789770</td>\n",
       "      <td>0.091197</td>\n",
       "      <td>0.764290</td>\n",
       "      <td>0.195620</td>\n",
       "      <td>0.091537</td>\n",
       "      <td>141.420000</td>\n",
       "      <td>80.722500</td>\n",
       "      <td>0.951020</td>\n",
       "      <td>2.049800</td>\n",
       "      <td>6.985900e+01</td>\n",
       "      <td>0.098818</td>\n",
       "      <td>0.058168</td>\n",
       "      <td>2.287975</td>\n",
       "      <td>0.522437</td>\n",
       "      <td>0.356183</td>\n",
       "      <td>2.256200</td>\n",
       "      <td>2.440700</td>\n",
       "      <td>4.248800e+03</td>\n",
       "      <td>0.131285</td>\n",
       "      <td>0.270845</td>\n",
       "      <td>0.996080</td>\n",
       "      <td>0.248650</td>\n",
       "      <td>2.093375e+01</td>\n",
       "      <td>10.636250</td>\n",
       "      <td>118.490000</td>\n",
       "      <td>8.921600</td>\n",
       "      <td>9.690000</td>\n",
       "      <td>0.000000</td>\n",
       "    </tr>\n",
       "    <tr>\n",
       "      <th>max</th>\n",
       "      <td>52.652000</td>\n",
       "      <td>446.880000</td>\n",
       "      <td>17.708000</td>\n",
       "      <td>53433.000000</td>\n",
       "      <td>6.837700e+05</td>\n",
       "      <td>45.533000</td>\n",
       "      <td>52.652000</td>\n",
       "      <td>53432.000000</td>\n",
       "      <td>740.44000</td>\n",
       "      <td>11.837000</td>\n",
       "      <td>52.652000</td>\n",
       "      <td>7022.600000</td>\n",
       "      <td>4972.000000</td>\n",
       "      <td>52.652000</td>\n",
       "      <td>1.023600e+07</td>\n",
       "      <td>7022.600000</td>\n",
       "      <td>53433.000000</td>\n",
       "      <td>53.689000</td>\n",
       "      <td>60.430000</td>\n",
       "      <td>55745.000000</td>\n",
       "      <td>29907.000000</td>\n",
       "      <td>47.597000</td>\n",
       "      <td>60.430000</td>\n",
       "      <td>179.920000</td>\n",
       "      <td>8.834500</td>\n",
       "      <td>7022.600000</td>\n",
       "      <td>2.723000e+06</td>\n",
       "      <td>6233.300000</td>\n",
       "      <td>9.619900</td>\n",
       "      <td>1372.000000</td>\n",
       "      <td>60.430000</td>\n",
       "      <td>6.674200e+06</td>\n",
       "      <td>1696.000000</td>\n",
       "      <td>6348.500000</td>\n",
       "      <td>47.597000</td>\n",
       "      <td>169.500000</td>\n",
       "      <td>123140.000000</td>\n",
       "      <td>13.656000</td>\n",
       "      <td>12.928000</td>\n",
       "      <td>2883.000000</td>\n",
       "      <td>288770.000000</td>\n",
       "      <td>41.173000</td>\n",
       "      <td>254030.000000</td>\n",
       "      <td>254030.000000</td>\n",
       "      <td>113280.000000</td>\n",
       "      <td>53433.000000</td>\n",
       "      <td>2.591100e+06</td>\n",
       "      <td>47.597000</td>\n",
       "      <td>36.156000</td>\n",
       "      <td>53433.000000</td>\n",
       "      <td>446.880000</td>\n",
       "      <td>84827.000000</td>\n",
       "      <td>6234.300000</td>\n",
       "      <td>6234.300000</td>\n",
       "      <td>3.380500e+06</td>\n",
       "      <td>2.763300</td>\n",
       "      <td>552.640000</td>\n",
       "      <td>18118.000000</td>\n",
       "      <td>7617.300000</td>\n",
       "      <td>3.660200e+06</td>\n",
       "      <td>4470.400000</td>\n",
       "      <td>501840.000000</td>\n",
       "      <td>1974.500000</td>\n",
       "      <td>21499.000000</td>\n",
       "      <td>1.000000</td>\n",
       "    </tr>\n",
       "  </tbody>\n",
       "</table>\n",
       "</div>"
      ],
      "text/plain": [
       "             Attr1        Attr2        Attr3         Attr4         Attr5  \\\n",
       "count  8402.000000  8402.000000  8402.000000   8389.000000  8.383000e+03   \n",
       "mean      0.054847     0.588978     0.129347     11.308973 -1.764028e+03   \n",
       "std       0.705906     4.913137     4.905252    585.295212  1.323300e+05   \n",
       "min     -17.692000     0.000000  -445.880000      0.002238 -1.190300e+07   \n",
       "25%       0.000691     0.255532     0.015534      1.036500 -5.222450e+01   \n",
       "50%       0.042716     0.463860     0.197595      1.606600  1.778200e+00   \n",
       "75%       0.123448     0.689250     0.420228      2.953800  5.606300e+01   \n",
       "max      52.652000   446.880000    17.708000  53433.000000  6.837700e+05   \n",
       "\n",
       "             Attr6        Attr7         Attr8       Attr9       Attr10  \\\n",
       "count  8402.000000  8402.000000   8392.000000  8399.00000  8402.000000   \n",
       "mean     -0.087670     0.067418     16.054715     1.82838     0.397535   \n",
       "std       5.471911     0.709017    675.340779     8.40540     4.915815   \n",
       "min    -486.720000   -17.692000     -2.081800    -1.21570  -445.860000   \n",
       "25%       0.000000     0.002069      0.432820     1.00920     0.297382   \n",
       "50%       0.000000     0.050569      1.109750     1.19210     0.515275   \n",
       "75%       0.072553     0.140813      2.824825     2.05715     0.724808   \n",
       "max      45.533000    52.652000  53432.000000   740.44000    11.837000   \n",
       "\n",
       "            Attr11       Attr12       Attr13       Attr14        Attr15  \\\n",
       "count  8402.000000  8389.000000  8367.000000  8402.000000  8.395000e+03   \n",
       "mean      0.088962     1.935428     0.419023     0.067431  3.204069e+03   \n",
       "std       0.713999    83.890318    55.518390     0.709016  1.216060e+05   \n",
       "min     -17.692000  -274.570000  -631.710000   -17.692000 -2.321800e+06   \n",
       "25%       0.009406     0.006092     0.020880     0.002090  1.871650e+02   \n",
       "50%       0.067697     0.155880     0.066782     0.050592  8.042600e+02   \n",
       "75%       0.159625     0.568870     0.133390     0.140813  2.170400e+03   \n",
       "max      52.652000  7022.600000  4972.000000    52.652000  1.023600e+07   \n",
       "\n",
       "            Attr16        Attr17       Attr18       Attr19        Attr20  \\\n",
       "count  8392.000000   8392.000000  8402.000000  8367.000000   8367.000000   \n",
       "mean      2.103678     17.500934     0.073812    -0.248363     62.258834   \n",
       "std      83.572191    680.675845     0.919193    12.428827    682.431099   \n",
       "min    -204.300000     -0.043411   -17.692000  -771.650000     -0.001439   \n",
       "25%       0.060353      1.449725     0.002090     0.001576     14.199500   \n",
       "50%       0.235065      2.154450     0.050592     0.031786     34.439000   \n",
       "75%       0.644070      3.898025     0.140850     0.087405     63.617500   \n",
       "max    7022.600000  53433.000000    53.689000    60.430000  55745.000000   \n",
       "\n",
       "             Attr21       Attr22       Attr23       Attr24       Attr25  \\\n",
       "count   7744.000000  8402.000000  8367.000000  8211.000000  8402.000000   \n",
       "mean       5.557531     0.077978    -0.253424     0.219876     0.228901   \n",
       "std      342.266905     0.635466    12.360156     2.229882     5.181163   \n",
       "min       -0.186360   -17.692000  -771.650000   -44.197000  -466.290000   \n",
       "25%        0.794960     0.000000     0.000549     0.013231     0.132547   \n",
       "50%        0.953390     0.053714     0.027099     0.155660     0.374725   \n",
       "75%        1.104650     0.144240     0.075855     0.368430     0.613433   \n",
       "max    29907.000000    47.597000    60.430000   179.920000     8.834500   \n",
       "\n",
       "            Attr26        Attr27       Attr28       Attr29       Attr30  \\\n",
       "count  8392.000000  7.838000e+03  8225.000000  8402.000000  8367.000000   \n",
       "mean      1.939756  1.143300e+03     6.629665     3.919917     0.805050   \n",
       "std      81.199225  3.409121e+04   104.095424     0.835511    22.895986   \n",
       "min    -204.300000 -4.111900e+04  -690.400000    -0.358530  -495.410000   \n",
       "25%       0.054367  0.000000e+00     0.024419     3.393875     0.073344   \n",
       "50%       0.213330  1.045350e+00     0.455760     3.932900     0.217640   \n",
       "75%       0.589568  4.735000e+00     1.568500     4.450150     0.430545   \n",
       "max    7022.600000  2.723000e+06  6233.300000     9.619900  1372.000000   \n",
       "\n",
       "            Attr31        Attr32       Attr33       Attr34       Attr35  \\\n",
       "count  8367.000000  8.321000e+03  8389.000000  8392.000000  8402.000000   \n",
       "mean     -0.236592  1.388640e+03     8.256637     5.483663     0.074246   \n",
       "std      12.426631  7.644385e+04    26.928841    76.378792     0.622324   \n",
       "min    -771.390000 -9.295600e+03    -1.921900 -1696.000000   -17.073000   \n",
       "25%       0.003841  4.458900e+01     2.759800     0.356747     0.001591   \n",
       "50%       0.039843  7.750200e+01     4.683200     2.019300     0.052444   \n",
       "75%       0.098961  1.300100e+02     8.086200     4.778825     0.144613   \n",
       "max      60.430000  6.674200e+06  1696.000000  6348.500000    47.597000   \n",
       "\n",
       "            Attr36         Attr37       Attr38       Attr39       Attr40  \\\n",
       "count  8402.000000    4631.000000  8402.000000  8367.000000  8389.000000   \n",
       "mean      1.983730      83.018356     0.500004    -0.132608     2.439891   \n",
       "std       2.741026    1875.706821     4.910074     8.438313    41.306442   \n",
       "min       0.000000      -2.200900  -445.860000  -551.110000    -7.081900   \n",
       "25%       1.036925       1.028500     0.428815     0.001371     0.055519   \n",
       "50%       1.579400       2.675000     0.630150     0.033886     0.198920   \n",
       "75%       2.380825      10.260500     0.789770     0.091197     0.764290   \n",
       "max     169.500000  123140.000000    13.656000    12.928000  2883.000000   \n",
       "\n",
       "              Attr41       Attr42         Attr43         Attr44  \\\n",
       "count    8241.000000  8367.000000    8367.000000    8367.000000   \n",
       "mean       35.723698    -0.200886     194.601331     132.342340   \n",
       "std      3181.085331    11.912042    3242.124557    2985.753437   \n",
       "min      -667.730000  -765.800000      -0.293730       0.000000   \n",
       "25%         0.022354     0.000000      65.432000      34.162500   \n",
       "50%         0.079280     0.034508      99.197000      54.363000   \n",
       "75%         0.195620     0.091537     141.420000      80.722500   \n",
       "max    288770.000000    41.173000  254030.000000  254030.000000   \n",
       "\n",
       "              Attr45        Attr46        Attr47       Attr48       Attr49  \\\n",
       "count    7927.000000   8389.000000  8.335000e+03  8402.000000  8367.000000   \n",
       "mean       23.553849     10.289031  6.495088e+02     0.006799    -0.279191   \n",
       "std      1894.681438    585.172751  3.492582e+04     0.680207    13.151382   \n",
       "min    -74385.000000     -6.469200 -1.730300e+01   -17.692000  -905.750000   \n",
       "25%         0.005889      0.606840  1.488800e+01    -0.049980    -0.037668   \n",
       "50%         0.257680      1.065600  3.711100e+01     0.008643     0.005605   \n",
       "75%         0.951020      2.049800  6.985900e+01     0.098818     0.058168   \n",
       "max    113280.000000  53433.000000  2.591100e+06    47.597000    36.156000   \n",
       "\n",
       "             Attr50       Attr51        Attr52       Attr53       Attr54  \\\n",
       "count   8392.000000  8402.000000   8334.000000  8225.000000  8225.000000   \n",
       "mean       9.940061     0.462176     13.853875     6.080295     7.247296   \n",
       "std      584.060903     4.902443    952.360451    98.684745   102.990880   \n",
       "min        0.002238     0.000000    -25.467000  -869.040000  -706.490000   \n",
       "25%        0.748105     0.176005      0.122237     0.659500     0.950420   \n",
       "50%        1.225550     0.324315      0.211875     1.191800     1.369600   \n",
       "75%        2.287975     0.522437      0.356183     2.256200     2.440700   \n",
       "max    53433.000000   446.880000  84827.000000  6234.300000  6234.300000   \n",
       "\n",
       "             Attr55       Attr56       Attr57        Attr58       Attr59  \\\n",
       "count  8.402000e+03  8367.000000  8402.000000   8379.000000  8402.000000   \n",
       "mean   6.288117e+03    -0.029447     0.032885      3.414699     1.660515   \n",
       "std    5.722685e+04     5.936958    20.490525    198.503181    86.322725   \n",
       "min   -7.513800e+05  -529.350000 -1667.300000   -198.690000  -172.070000   \n",
       "25%    1.195200e+01     0.004887     0.007037      0.874940     0.000000   \n",
       "50%    8.681500e+02     0.052046     0.104760      0.952930     0.003126   \n",
       "75%    4.248800e+03     0.131285     0.270845      0.996080     0.248650   \n",
       "max    3.380500e+06     2.763300   552.640000  18118.000000  7617.300000   \n",
       "\n",
       "             Attr60       Attr61         Attr62       Attr63        Attr64  \\\n",
       "count  7.926000e+03  8388.000000    8367.000000  8389.000000   8225.000000   \n",
       "mean   6.390950e+02    14.266036     277.043245     9.061467     38.013129   \n",
       "std    4.137726e+04    89.235008    7255.146439    29.760936    460.467365   \n",
       "min    0.000000e+00     0.000000       0.000000     0.000000      0.000000   \n",
       "25%    5.545975e+00     4.492450      40.635000     3.057300      1.997600   \n",
       "50%    9.958200e+00     6.690100      70.494000     5.151600      4.021600   \n",
       "75%    2.093375e+01    10.636250     118.490000     8.921600      9.690000   \n",
       "max    3.660200e+06  4470.400000  501840.000000  1974.500000  21499.000000   \n",
       "\n",
       "             class  \n",
       "count  8402.000000  \n",
       "mean      0.047132  \n",
       "std       0.211933  \n",
       "min       0.000000  \n",
       "25%       0.000000  \n",
       "50%       0.000000  \n",
       "75%       0.000000  \n",
       "max       1.000000  "
      ]
     },
     "execution_count": 11,
     "metadata": {},
     "output_type": "execute_result"
    }
   ],
   "source": [
    "df_train.describe()"
   ]
  },
  {
   "cell_type": "markdown",
   "id": "cfd959d3",
   "metadata": {},
   "source": [
    "# Data Imputation:-"
   ]
  },
  {
   "cell_type": "code",
   "execution_count": 17,
   "id": "8567fef6",
   "metadata": {},
   "outputs": [],
   "source": [
    "def mean_imputation(df_train):\n",
    "    imputer = SimpleImputer(missing_values=np.nan,strategy='mean')\n",
    "    mean_imputed_df = pd.DataFrame(imputer.fit_transform(df_train))\n",
    "    mean_imputed_df.columns = df_train.columns\n",
    "    return mean_imputed_df\n",
    "\n",
    "mean_imputed_train = mean_imputation(df_train)\n",
    "mean_imputed_test = mean_imputation(df_test)"
   ]
  },
  {
   "cell_type": "code",
   "execution_count": 18,
   "id": "8ca5fe25",
   "metadata": {},
   "outputs": [
    {
     "data": {
      "text/plain": [
       "0"
      ]
     },
     "execution_count": 18,
     "metadata": {},
     "output_type": "execute_result"
    }
   ],
   "source": [
    "mean_imputed_test.isnull().sum().sum()"
   ]
  },
  {
   "cell_type": "markdown",
   "id": "d1031cd1",
   "metadata": {},
   "source": [
    "# Handling Imbalanced dataset using SMOTE:-"
   ]
  },
  {
   "cell_type": "code",
   "execution_count": 20,
   "id": "54a51951",
   "metadata": {},
   "outputs": [],
   "source": [
    "def balanced_data(df):\n",
    "    sm= SMOTE(random_state=42)\n",
    "    y_train=df.iloc[:,-1]\n",
    "    x_train=df.iloc[:,:-1]\n",
    "    df1_train_res, y_train_res = sm.fit(x_train, y_train)\n",
    "    return df1_train_res,y_train_res"
   ]
  },
  {
   "cell_type": "code",
   "execution_count": 21,
   "id": "456e86a7",
   "metadata": {},
   "outputs": [
    {
     "data": {
      "text/plain": [
       "b'0'    10008\n",
       "b'1'      495\n",
       "Name: class, dtype: int64"
      ]
     },
     "execution_count": 21,
     "metadata": {},
     "output_type": "execute_result"
    }
   ],
   "source": [
    "df1['class'].value_counts()"
   ]
  },
  {
   "cell_type": "code",
   "execution_count": 22,
   "id": "4b6516e2",
   "metadata": {},
   "outputs": [],
   "source": [
    "def balanced_data(df):\n",
    "    y_train=df.iloc[:,-1]\n",
    "    x_train=df.iloc[:,:-1]\n",
    "    sm = SMOTE(random_state = 2)\n",
    "    df1_train_res, y_train_res = sm.fit_resample(x_train, y_train)\n",
    "    return df1_train_res,y_train_res"
   ]
  },
  {
   "cell_type": "code",
   "execution_count": 24,
   "id": "705a9601",
   "metadata": {},
   "outputs": [],
   "source": [
    "train_balanced,y_balanced1=balanced_data(mean_imputed_train)\n",
    "test_balanced,y_balanced2=balanced_data(mean_imputed_test) #There was no need to explicilty change the test data!"
   ]
  },
  {
   "cell_type": "markdown",
   "id": "f9662a84",
   "metadata": {},
   "source": [
    "# Fitting a model:-"
   ]
  },
  {
   "cell_type": "code",
   "execution_count": 36,
   "id": "15c784d3",
   "metadata": {},
   "outputs": [],
   "source": [
    "log_model = LogisticRegression(random_state=42,C=10, penalty='l1', solver='liblinear')"
   ]
  },
  {
   "cell_type": "code",
   "execution_count": 37,
   "id": "2dce6ca1",
   "metadata": {},
   "outputs": [
    {
     "data": {
      "text/html": [
       "<style>#sk-container-id-3 {color: black;background-color: white;}#sk-container-id-3 pre{padding: 0;}#sk-container-id-3 div.sk-toggleable {background-color: white;}#sk-container-id-3 label.sk-toggleable__label {cursor: pointer;display: block;width: 100%;margin-bottom: 0;padding: 0.3em;box-sizing: border-box;text-align: center;}#sk-container-id-3 label.sk-toggleable__label-arrow:before {content: \"▸\";float: left;margin-right: 0.25em;color: #696969;}#sk-container-id-3 label.sk-toggleable__label-arrow:hover:before {color: black;}#sk-container-id-3 div.sk-estimator:hover label.sk-toggleable__label-arrow:before {color: black;}#sk-container-id-3 div.sk-toggleable__content {max-height: 0;max-width: 0;overflow: hidden;text-align: left;background-color: #f0f8ff;}#sk-container-id-3 div.sk-toggleable__content pre {margin: 0.2em;color: black;border-radius: 0.25em;background-color: #f0f8ff;}#sk-container-id-3 input.sk-toggleable__control:checked~div.sk-toggleable__content {max-height: 200px;max-width: 100%;overflow: auto;}#sk-container-id-3 input.sk-toggleable__control:checked~label.sk-toggleable__label-arrow:before {content: \"▾\";}#sk-container-id-3 div.sk-estimator input.sk-toggleable__control:checked~label.sk-toggleable__label {background-color: #d4ebff;}#sk-container-id-3 div.sk-label input.sk-toggleable__control:checked~label.sk-toggleable__label {background-color: #d4ebff;}#sk-container-id-3 input.sk-hidden--visually {border: 0;clip: rect(1px 1px 1px 1px);clip: rect(1px, 1px, 1px, 1px);height: 1px;margin: -1px;overflow: hidden;padding: 0;position: absolute;width: 1px;}#sk-container-id-3 div.sk-estimator {font-family: monospace;background-color: #f0f8ff;border: 1px dotted black;border-radius: 0.25em;box-sizing: border-box;margin-bottom: 0.5em;}#sk-container-id-3 div.sk-estimator:hover {background-color: #d4ebff;}#sk-container-id-3 div.sk-parallel-item::after {content: \"\";width: 100%;border-bottom: 1px solid gray;flex-grow: 1;}#sk-container-id-3 div.sk-label:hover label.sk-toggleable__label {background-color: #d4ebff;}#sk-container-id-3 div.sk-serial::before {content: \"\";position: absolute;border-left: 1px solid gray;box-sizing: border-box;top: 0;bottom: 0;left: 50%;z-index: 0;}#sk-container-id-3 div.sk-serial {display: flex;flex-direction: column;align-items: center;background-color: white;padding-right: 0.2em;padding-left: 0.2em;position: relative;}#sk-container-id-3 div.sk-item {position: relative;z-index: 1;}#sk-container-id-3 div.sk-parallel {display: flex;align-items: stretch;justify-content: center;background-color: white;position: relative;}#sk-container-id-3 div.sk-item::before, #sk-container-id-3 div.sk-parallel-item::before {content: \"\";position: absolute;border-left: 1px solid gray;box-sizing: border-box;top: 0;bottom: 0;left: 50%;z-index: -1;}#sk-container-id-3 div.sk-parallel-item {display: flex;flex-direction: column;z-index: 1;position: relative;background-color: white;}#sk-container-id-3 div.sk-parallel-item:first-child::after {align-self: flex-end;width: 50%;}#sk-container-id-3 div.sk-parallel-item:last-child::after {align-self: flex-start;width: 50%;}#sk-container-id-3 div.sk-parallel-item:only-child::after {width: 0;}#sk-container-id-3 div.sk-dashed-wrapped {border: 1px dashed gray;margin: 0 0.4em 0.5em 0.4em;box-sizing: border-box;padding-bottom: 0.4em;background-color: white;}#sk-container-id-3 div.sk-label label {font-family: monospace;font-weight: bold;display: inline-block;line-height: 1.2em;}#sk-container-id-3 div.sk-label-container {text-align: center;}#sk-container-id-3 div.sk-container {/* jupyter's `normalize.less` sets `[hidden] { display: none; }` but bootstrap.min.css set `[hidden] { display: none !important; }` so we also need the `!important` here to be able to override the default hidden behavior on the sphinx rendered scikit-learn.org. See: https://github.com/scikit-learn/scikit-learn/issues/21755 */display: inline-block !important;position: relative;}#sk-container-id-3 div.sk-text-repr-fallback {display: none;}</style><div id=\"sk-container-id-3\" class=\"sk-top-container\"><div class=\"sk-text-repr-fallback\"><pre>LogisticRegression(C=10, penalty=&#x27;l1&#x27;, random_state=42, solver=&#x27;liblinear&#x27;)</pre><b>In a Jupyter environment, please rerun this cell to show the HTML representation or trust the notebook. <br />On GitHub, the HTML representation is unable to render, please try loading this page with nbviewer.org.</b></div><div class=\"sk-container\" hidden><div class=\"sk-item\"><div class=\"sk-estimator sk-toggleable\"><input class=\"sk-toggleable__control sk-hidden--visually\" id=\"sk-estimator-id-3\" type=\"checkbox\" checked><label for=\"sk-estimator-id-3\" class=\"sk-toggleable__label sk-toggleable__label-arrow\">LogisticRegression</label><div class=\"sk-toggleable__content\"><pre>LogisticRegression(C=10, penalty=&#x27;l1&#x27;, random_state=42, solver=&#x27;liblinear&#x27;)</pre></div></div></div></div></div>"
      ],
      "text/plain": [
       "LogisticRegression(C=10, penalty='l1', random_state=42, solver='liblinear')"
      ]
     },
     "execution_count": 37,
     "metadata": {},
     "output_type": "execute_result"
    }
   ],
   "source": [
    "log_model.fit(train_balanced,y_balanced1)"
   ]
  },
  {
   "cell_type": "code",
   "execution_count": 38,
   "id": "ea8fa89b",
   "metadata": {},
   "outputs": [],
   "source": [
    "log_predicted = log_model.predict(test_balanced)"
   ]
  },
  {
   "cell_type": "code",
   "execution_count": 41,
   "id": "db3f8440",
   "metadata": {},
   "outputs": [
    {
     "name": "stdout",
     "output_type": "stream",
     "text": [
      "The Accuracy Score of the Logistic Regression Model is : 0.6905594405594405\n"
     ]
    }
   ],
   "source": [
    "print(f\"The Accuracy Score of the Logistic Regression Model is : {accuracy_score(y_balanced2,log_predicted)}\")"
   ]
  },
  {
   "cell_type": "code",
   "execution_count": 43,
   "id": "c922acc2",
   "metadata": {},
   "outputs": [
    {
     "data": {
      "text/plain": [
       "0.6760498384863867"
      ]
     },
     "execution_count": 43,
     "metadata": {},
     "output_type": "execute_result"
    }
   ],
   "source": [
    "precision_score(y_balanced2,log_predicted)"
   ]
  },
  {
   "cell_type": "code",
   "execution_count": 44,
   "id": "791cae01",
   "metadata": {},
   "outputs": [
    {
     "data": {
      "text/plain": [
       "0.7317682317682318"
      ]
     },
     "execution_count": 44,
     "metadata": {},
     "output_type": "execute_result"
    }
   ],
   "source": [
    "recall_score(y_balanced2,log_predicted)"
   ]
  },
  {
   "cell_type": "code",
   "execution_count": 46,
   "id": "24e47183",
   "metadata": {},
   "outputs": [
    {
     "data": {
      "text/plain": [
       "0.702806428400096"
      ]
     },
     "execution_count": 46,
     "metadata": {},
     "output_type": "execute_result"
    }
   ],
   "source": [
    "f1_score(y_balanced2,log_predicted)"
   ]
  },
  {
   "cell_type": "code",
   "execution_count": 48,
   "id": "0adb4fa1",
   "metadata": {},
   "outputs": [
    {
     "data": {
      "text/plain": [
       "array([[1300,  702],\n",
       "       [ 537, 1465]], dtype=int64)"
      ]
     },
     "execution_count": 48,
     "metadata": {},
     "output_type": "execute_result"
    }
   ],
   "source": [
    "confusion_matrix(y_balanced2,log_predicted)"
   ]
  },
  {
   "cell_type": "markdown",
   "id": "a1fda4cc",
   "metadata": {},
   "source": [
    "Fitting a Random Forest Model:-"
   ]
  },
  {
   "cell_type": "code",
   "execution_count": 50,
   "id": "15597cbf",
   "metadata": {},
   "outputs": [],
   "source": [
    "rand_model= RandomForestClassifier(random_state=42)"
   ]
  },
  {
   "cell_type": "code",
   "execution_count": 51,
   "id": "79781fbe",
   "metadata": {},
   "outputs": [
    {
     "data": {
      "text/html": [
       "<style>#sk-container-id-4 {color: black;background-color: white;}#sk-container-id-4 pre{padding: 0;}#sk-container-id-4 div.sk-toggleable {background-color: white;}#sk-container-id-4 label.sk-toggleable__label {cursor: pointer;display: block;width: 100%;margin-bottom: 0;padding: 0.3em;box-sizing: border-box;text-align: center;}#sk-container-id-4 label.sk-toggleable__label-arrow:before {content: \"▸\";float: left;margin-right: 0.25em;color: #696969;}#sk-container-id-4 label.sk-toggleable__label-arrow:hover:before {color: black;}#sk-container-id-4 div.sk-estimator:hover label.sk-toggleable__label-arrow:before {color: black;}#sk-container-id-4 div.sk-toggleable__content {max-height: 0;max-width: 0;overflow: hidden;text-align: left;background-color: #f0f8ff;}#sk-container-id-4 div.sk-toggleable__content pre {margin: 0.2em;color: black;border-radius: 0.25em;background-color: #f0f8ff;}#sk-container-id-4 input.sk-toggleable__control:checked~div.sk-toggleable__content {max-height: 200px;max-width: 100%;overflow: auto;}#sk-container-id-4 input.sk-toggleable__control:checked~label.sk-toggleable__label-arrow:before {content: \"▾\";}#sk-container-id-4 div.sk-estimator input.sk-toggleable__control:checked~label.sk-toggleable__label {background-color: #d4ebff;}#sk-container-id-4 div.sk-label input.sk-toggleable__control:checked~label.sk-toggleable__label {background-color: #d4ebff;}#sk-container-id-4 input.sk-hidden--visually {border: 0;clip: rect(1px 1px 1px 1px);clip: rect(1px, 1px, 1px, 1px);height: 1px;margin: -1px;overflow: hidden;padding: 0;position: absolute;width: 1px;}#sk-container-id-4 div.sk-estimator {font-family: monospace;background-color: #f0f8ff;border: 1px dotted black;border-radius: 0.25em;box-sizing: border-box;margin-bottom: 0.5em;}#sk-container-id-4 div.sk-estimator:hover {background-color: #d4ebff;}#sk-container-id-4 div.sk-parallel-item::after {content: \"\";width: 100%;border-bottom: 1px solid gray;flex-grow: 1;}#sk-container-id-4 div.sk-label:hover label.sk-toggleable__label {background-color: #d4ebff;}#sk-container-id-4 div.sk-serial::before {content: \"\";position: absolute;border-left: 1px solid gray;box-sizing: border-box;top: 0;bottom: 0;left: 50%;z-index: 0;}#sk-container-id-4 div.sk-serial {display: flex;flex-direction: column;align-items: center;background-color: white;padding-right: 0.2em;padding-left: 0.2em;position: relative;}#sk-container-id-4 div.sk-item {position: relative;z-index: 1;}#sk-container-id-4 div.sk-parallel {display: flex;align-items: stretch;justify-content: center;background-color: white;position: relative;}#sk-container-id-4 div.sk-item::before, #sk-container-id-4 div.sk-parallel-item::before {content: \"\";position: absolute;border-left: 1px solid gray;box-sizing: border-box;top: 0;bottom: 0;left: 50%;z-index: -1;}#sk-container-id-4 div.sk-parallel-item {display: flex;flex-direction: column;z-index: 1;position: relative;background-color: white;}#sk-container-id-4 div.sk-parallel-item:first-child::after {align-self: flex-end;width: 50%;}#sk-container-id-4 div.sk-parallel-item:last-child::after {align-self: flex-start;width: 50%;}#sk-container-id-4 div.sk-parallel-item:only-child::after {width: 0;}#sk-container-id-4 div.sk-dashed-wrapped {border: 1px dashed gray;margin: 0 0.4em 0.5em 0.4em;box-sizing: border-box;padding-bottom: 0.4em;background-color: white;}#sk-container-id-4 div.sk-label label {font-family: monospace;font-weight: bold;display: inline-block;line-height: 1.2em;}#sk-container-id-4 div.sk-label-container {text-align: center;}#sk-container-id-4 div.sk-container {/* jupyter's `normalize.less` sets `[hidden] { display: none; }` but bootstrap.min.css set `[hidden] { display: none !important; }` so we also need the `!important` here to be able to override the default hidden behavior on the sphinx rendered scikit-learn.org. See: https://github.com/scikit-learn/scikit-learn/issues/21755 */display: inline-block !important;position: relative;}#sk-container-id-4 div.sk-text-repr-fallback {display: none;}</style><div id=\"sk-container-id-4\" class=\"sk-top-container\"><div class=\"sk-text-repr-fallback\"><pre>RandomForestClassifier(random_state=42)</pre><b>In a Jupyter environment, please rerun this cell to show the HTML representation or trust the notebook. <br />On GitHub, the HTML representation is unable to render, please try loading this page with nbviewer.org.</b></div><div class=\"sk-container\" hidden><div class=\"sk-item\"><div class=\"sk-estimator sk-toggleable\"><input class=\"sk-toggleable__control sk-hidden--visually\" id=\"sk-estimator-id-4\" type=\"checkbox\" checked><label for=\"sk-estimator-id-4\" class=\"sk-toggleable__label sk-toggleable__label-arrow\">RandomForestClassifier</label><div class=\"sk-toggleable__content\"><pre>RandomForestClassifier(random_state=42)</pre></div></div></div></div></div>"
      ],
      "text/plain": [
       "RandomForestClassifier(random_state=42)"
      ]
     },
     "execution_count": 51,
     "metadata": {},
     "output_type": "execute_result"
    }
   ],
   "source": [
    "rand_model.fit(train_balanced,y_balanced1)"
   ]
  },
  {
   "cell_type": "code",
   "execution_count": 52,
   "id": "1dc7ffb2",
   "metadata": {},
   "outputs": [],
   "source": [
    "rand_predictions= rand_model.predict(test_balanced)"
   ]
  },
  {
   "cell_type": "code",
   "execution_count": 53,
   "id": "04c48508",
   "metadata": {},
   "outputs": [
    {
     "data": {
      "text/plain": [
       "0.7307692307692307"
      ]
     },
     "execution_count": 53,
     "metadata": {},
     "output_type": "execute_result"
    }
   ],
   "source": [
    "accuracy_score(y_balanced2,rand_predictions)"
   ]
  },
  {
   "cell_type": "code",
   "execution_count": 54,
   "id": "88bbd8c1",
   "metadata": {},
   "outputs": [
    {
     "data": {
      "text/plain": [
       "0.9704684317718941"
      ]
     },
     "execution_count": 54,
     "metadata": {},
     "output_type": "execute_result"
    }
   ],
   "source": [
    "precision_score(y_balanced2,rand_predictions)"
   ]
  },
  {
   "cell_type": "code",
   "execution_count": 55,
   "id": "aed4af2e",
   "metadata": {},
   "outputs": [
    {
     "data": {
      "text/plain": [
       "0.476023976023976"
      ]
     },
     "execution_count": 55,
     "metadata": {},
     "output_type": "execute_result"
    }
   ],
   "source": [
    "recall_score(y_balanced2,rand_predictions)"
   ]
  },
  {
   "cell_type": "code",
   "execution_count": 57,
   "id": "befce0dd",
   "metadata": {},
   "outputs": [
    {
     "data": {
      "text/plain": [
       "array([[1973,   29],\n",
       "       [1049,  953]], dtype=int64)"
      ]
     },
     "execution_count": 57,
     "metadata": {},
     "output_type": "execute_result"
    }
   ],
   "source": [
    "confusion_matrix(y_balanced2,rand_predictions)"
   ]
  },
  {
   "cell_type": "code",
   "execution_count": 59,
   "id": "21e89afe",
   "metadata": {},
   "outputs": [],
   "source": [
    "svc_model= SVC(random_state=42)"
   ]
  },
  {
   "cell_type": "code",
   "execution_count": 60,
   "id": "e767418b",
   "metadata": {},
   "outputs": [
    {
     "data": {
      "text/html": [
       "<style>#sk-container-id-5 {color: black;background-color: white;}#sk-container-id-5 pre{padding: 0;}#sk-container-id-5 div.sk-toggleable {background-color: white;}#sk-container-id-5 label.sk-toggleable__label {cursor: pointer;display: block;width: 100%;margin-bottom: 0;padding: 0.3em;box-sizing: border-box;text-align: center;}#sk-container-id-5 label.sk-toggleable__label-arrow:before {content: \"▸\";float: left;margin-right: 0.25em;color: #696969;}#sk-container-id-5 label.sk-toggleable__label-arrow:hover:before {color: black;}#sk-container-id-5 div.sk-estimator:hover label.sk-toggleable__label-arrow:before {color: black;}#sk-container-id-5 div.sk-toggleable__content {max-height: 0;max-width: 0;overflow: hidden;text-align: left;background-color: #f0f8ff;}#sk-container-id-5 div.sk-toggleable__content pre {margin: 0.2em;color: black;border-radius: 0.25em;background-color: #f0f8ff;}#sk-container-id-5 input.sk-toggleable__control:checked~div.sk-toggleable__content {max-height: 200px;max-width: 100%;overflow: auto;}#sk-container-id-5 input.sk-toggleable__control:checked~label.sk-toggleable__label-arrow:before {content: \"▾\";}#sk-container-id-5 div.sk-estimator input.sk-toggleable__control:checked~label.sk-toggleable__label {background-color: #d4ebff;}#sk-container-id-5 div.sk-label input.sk-toggleable__control:checked~label.sk-toggleable__label {background-color: #d4ebff;}#sk-container-id-5 input.sk-hidden--visually {border: 0;clip: rect(1px 1px 1px 1px);clip: rect(1px, 1px, 1px, 1px);height: 1px;margin: -1px;overflow: hidden;padding: 0;position: absolute;width: 1px;}#sk-container-id-5 div.sk-estimator {font-family: monospace;background-color: #f0f8ff;border: 1px dotted black;border-radius: 0.25em;box-sizing: border-box;margin-bottom: 0.5em;}#sk-container-id-5 div.sk-estimator:hover {background-color: #d4ebff;}#sk-container-id-5 div.sk-parallel-item::after {content: \"\";width: 100%;border-bottom: 1px solid gray;flex-grow: 1;}#sk-container-id-5 div.sk-label:hover label.sk-toggleable__label {background-color: #d4ebff;}#sk-container-id-5 div.sk-serial::before {content: \"\";position: absolute;border-left: 1px solid gray;box-sizing: border-box;top: 0;bottom: 0;left: 50%;z-index: 0;}#sk-container-id-5 div.sk-serial {display: flex;flex-direction: column;align-items: center;background-color: white;padding-right: 0.2em;padding-left: 0.2em;position: relative;}#sk-container-id-5 div.sk-item {position: relative;z-index: 1;}#sk-container-id-5 div.sk-parallel {display: flex;align-items: stretch;justify-content: center;background-color: white;position: relative;}#sk-container-id-5 div.sk-item::before, #sk-container-id-5 div.sk-parallel-item::before {content: \"\";position: absolute;border-left: 1px solid gray;box-sizing: border-box;top: 0;bottom: 0;left: 50%;z-index: -1;}#sk-container-id-5 div.sk-parallel-item {display: flex;flex-direction: column;z-index: 1;position: relative;background-color: white;}#sk-container-id-5 div.sk-parallel-item:first-child::after {align-self: flex-end;width: 50%;}#sk-container-id-5 div.sk-parallel-item:last-child::after {align-self: flex-start;width: 50%;}#sk-container-id-5 div.sk-parallel-item:only-child::after {width: 0;}#sk-container-id-5 div.sk-dashed-wrapped {border: 1px dashed gray;margin: 0 0.4em 0.5em 0.4em;box-sizing: border-box;padding-bottom: 0.4em;background-color: white;}#sk-container-id-5 div.sk-label label {font-family: monospace;font-weight: bold;display: inline-block;line-height: 1.2em;}#sk-container-id-5 div.sk-label-container {text-align: center;}#sk-container-id-5 div.sk-container {/* jupyter's `normalize.less` sets `[hidden] { display: none; }` but bootstrap.min.css set `[hidden] { display: none !important; }` so we also need the `!important` here to be able to override the default hidden behavior on the sphinx rendered scikit-learn.org. See: https://github.com/scikit-learn/scikit-learn/issues/21755 */display: inline-block !important;position: relative;}#sk-container-id-5 div.sk-text-repr-fallback {display: none;}</style><div id=\"sk-container-id-5\" class=\"sk-top-container\"><div class=\"sk-text-repr-fallback\"><pre>SVC(random_state=42)</pre><b>In a Jupyter environment, please rerun this cell to show the HTML representation or trust the notebook. <br />On GitHub, the HTML representation is unable to render, please try loading this page with nbviewer.org.</b></div><div class=\"sk-container\" hidden><div class=\"sk-item\"><div class=\"sk-estimator sk-toggleable\"><input class=\"sk-toggleable__control sk-hidden--visually\" id=\"sk-estimator-id-5\" type=\"checkbox\" checked><label for=\"sk-estimator-id-5\" class=\"sk-toggleable__label sk-toggleable__label-arrow\">SVC</label><div class=\"sk-toggleable__content\"><pre>SVC(random_state=42)</pre></div></div></div></div></div>"
      ],
      "text/plain": [
       "SVC(random_state=42)"
      ]
     },
     "execution_count": 60,
     "metadata": {},
     "output_type": "execute_result"
    }
   ],
   "source": [
    "svc_model.fit(train_balanced,y_balanced1)"
   ]
  },
  {
   "cell_type": "code",
   "execution_count": 61,
   "id": "34995990",
   "metadata": {},
   "outputs": [],
   "source": [
    "svc_predictions =svc_model.predict(test_balanced)"
   ]
  },
  {
   "cell_type": "code",
   "execution_count": 62,
   "id": "6e4e679a",
   "metadata": {},
   "outputs": [
    {
     "data": {
      "text/plain": [
       "0.682988298829883"
      ]
     },
     "execution_count": 62,
     "metadata": {},
     "output_type": "execute_result"
    }
   ],
   "source": [
    "f1_score(y_balanced2,svc_predictions)"
   ]
  },
  {
   "cell_type": "code",
   "execution_count": 63,
   "id": "dc11825f",
   "metadata": {},
   "outputs": [
    {
     "data": {
      "text/plain": [
       "array([[ 346, 1656],\n",
       "       [ 105, 1897]], dtype=int64)"
      ]
     },
     "execution_count": 63,
     "metadata": {},
     "output_type": "execute_result"
    }
   ],
   "source": [
    "confusion_matrix(y_balanced2,svc_predictions)"
   ]
  },
  {
   "cell_type": "code",
   "execution_count": 64,
   "id": "d92ca90d",
   "metadata": {},
   "outputs": [
    {
     "data": {
      "text/plain": [
       "0.5339150014072614"
      ]
     },
     "execution_count": 64,
     "metadata": {},
     "output_type": "execute_result"
    }
   ],
   "source": [
    "precision_score(y_balanced2,svc_predictions)"
   ]
  },
  {
   "cell_type": "code",
   "execution_count": 65,
   "id": "69d19dca",
   "metadata": {},
   "outputs": [
    {
     "data": {
      "text/plain": [
       "0.9475524475524476"
      ]
     },
     "execution_count": 65,
     "metadata": {},
     "output_type": "execute_result"
    }
   ],
   "source": [
    "recall_score(y_balanced2,svc_predictions)"
   ]
  },
  {
   "cell_type": "markdown",
   "id": "fb34be2d",
   "metadata": {},
   "source": [
    "# Removing Highly correlated features:-"
   ]
  },
  {
   "cell_type": "code",
   "execution_count": 91,
   "id": "98e2228d",
   "metadata": {},
   "outputs": [
    {
     "data": {
      "text/plain": [
       "<AxesSubplot:>"
      ]
     },
     "execution_count": 91,
     "metadata": {},
     "output_type": "execute_result"
    },
    {
     "data": {
      "image/png": "[encoded data removed]",
      "text/plain": [
       "<Figure size 864x720 with 2 Axes>"
      ]
     },
     "metadata": {
      "needs_background": "light"
     },
     "output_type": "display_data"
    }
   ],
   "source": [
    "plt.figure(figsize=(12,10))\n",
    "corr = train_balanced.corr()\n",
    "sns.heatmap(corr)\n"
   ]
  },
  {
   "cell_type": "code",
   "execution_count": 66,
   "id": "55e94185",
   "metadata": {},
   "outputs": [],
   "source": [
    "def correlation(dataset,threshold):\n",
    "    col_corr = set()\n",
    "    corr_matrix = dataset.corr()\n",
    "    for i in range(len(corr_matrix.columns) ):\n",
    "        for j in range(i):\n",
    "            if abs(corr_matrix.iloc[i,j]) > threshold:\n",
    "                colname = corr_matrix.columns[i]\n",
    "                col_corr.add(colname)\n",
    "                \n",
    "    return col_corr"
   ]
  },
  {
   "cell_type": "code",
   "execution_count": 67,
   "id": "5a3fe909",
   "metadata": {},
   "outputs": [],
   "source": [
    "highly_corr_features=correlation(train_balanced,0.9)"
   ]
  },
  {
   "cell_type": "code",
   "execution_count": 68,
   "id": "decee5f8",
   "metadata": {},
   "outputs": [
    {
     "data": {
      "text/plain": [
       "24"
      ]
     },
     "execution_count": 68,
     "metadata": {},
     "output_type": "execute_result"
    }
   ],
   "source": [
    "len(highly_corr_features)"
   ]
  },
  {
   "cell_type": "code",
   "execution_count": 69,
   "id": "88b629f8",
   "metadata": {},
   "outputs": [],
   "source": [
    "x_train= train_balanced.drop(highly_corr_features,axis=1)"
   ]
  },
  {
   "cell_type": "code",
   "execution_count": 70,
   "id": "67714cd6",
   "metadata": {},
   "outputs": [],
   "source": [
    "x_test = test_balanced.drop(highly_corr_features,axis=1)"
   ]
  },
  {
   "cell_type": "code",
   "execution_count": 72,
   "id": "da42ff02",
   "metadata": {},
   "outputs": [
    {
     "data": {
      "text/html": [
       "<style>#sk-container-id-7 {color: black;background-color: white;}#sk-container-id-7 pre{padding: 0;}#sk-container-id-7 div.sk-toggleable {background-color: white;}#sk-container-id-7 label.sk-toggleable__label {cursor: pointer;display: block;width: 100%;margin-bottom: 0;padding: 0.3em;box-sizing: border-box;text-align: center;}#sk-container-id-7 label.sk-toggleable__label-arrow:before {content: \"▸\";float: left;margin-right: 0.25em;color: #696969;}#sk-container-id-7 label.sk-toggleable__label-arrow:hover:before {color: black;}#sk-container-id-7 div.sk-estimator:hover label.sk-toggleable__label-arrow:before {color: black;}#sk-container-id-7 div.sk-toggleable__content {max-height: 0;max-width: 0;overflow: hidden;text-align: left;background-color: #f0f8ff;}#sk-container-id-7 div.sk-toggleable__content pre {margin: 0.2em;color: black;border-radius: 0.25em;background-color: #f0f8ff;}#sk-container-id-7 input.sk-toggleable__control:checked~div.sk-toggleable__content {max-height: 200px;max-width: 100%;overflow: auto;}#sk-container-id-7 input.sk-toggleable__control:checked~label.sk-toggleable__label-arrow:before {content: \"▾\";}#sk-container-id-7 div.sk-estimator input.sk-toggleable__control:checked~label.sk-toggleable__label {background-color: #d4ebff;}#sk-container-id-7 div.sk-label input.sk-toggleable__control:checked~label.sk-toggleable__label {background-color: #d4ebff;}#sk-container-id-7 input.sk-hidden--visually {border: 0;clip: rect(1px 1px 1px 1px);clip: rect(1px, 1px, 1px, 1px);height: 1px;margin: -1px;overflow: hidden;padding: 0;position: absolute;width: 1px;}#sk-container-id-7 div.sk-estimator {font-family: monospace;background-color: #f0f8ff;border: 1px dotted black;border-radius: 0.25em;box-sizing: border-box;margin-bottom: 0.5em;}#sk-container-id-7 div.sk-estimator:hover {background-color: #d4ebff;}#sk-container-id-7 div.sk-parallel-item::after {content: \"\";width: 100%;border-bottom: 1px solid gray;flex-grow: 1;}#sk-container-id-7 div.sk-label:hover label.sk-toggleable__label {background-color: #d4ebff;}#sk-container-id-7 div.sk-serial::before {content: \"\";position: absolute;border-left: 1px solid gray;box-sizing: border-box;top: 0;bottom: 0;left: 50%;z-index: 0;}#sk-container-id-7 div.sk-serial {display: flex;flex-direction: column;align-items: center;background-color: white;padding-right: 0.2em;padding-left: 0.2em;position: relative;}#sk-container-id-7 div.sk-item {position: relative;z-index: 1;}#sk-container-id-7 div.sk-parallel {display: flex;align-items: stretch;justify-content: center;background-color: white;position: relative;}#sk-container-id-7 div.sk-item::before, #sk-container-id-7 div.sk-parallel-item::before {content: \"\";position: absolute;border-left: 1px solid gray;box-sizing: border-box;top: 0;bottom: 0;left: 50%;z-index: -1;}#sk-container-id-7 div.sk-parallel-item {display: flex;flex-direction: column;z-index: 1;position: relative;background-color: white;}#sk-container-id-7 div.sk-parallel-item:first-child::after {align-self: flex-end;width: 50%;}#sk-container-id-7 div.sk-parallel-item:last-child::after {align-self: flex-start;width: 50%;}#sk-container-id-7 div.sk-parallel-item:only-child::after {width: 0;}#sk-container-id-7 div.sk-dashed-wrapped {border: 1px dashed gray;margin: 0 0.4em 0.5em 0.4em;box-sizing: border-box;padding-bottom: 0.4em;background-color: white;}#sk-container-id-7 div.sk-label label {font-family: monospace;font-weight: bold;display: inline-block;line-height: 1.2em;}#sk-container-id-7 div.sk-label-container {text-align: center;}#sk-container-id-7 div.sk-container {/* jupyter's `normalize.less` sets `[hidden] { display: none; }` but bootstrap.min.css set `[hidden] { display: none !important; }` so we also need the `!important` here to be able to override the default hidden behavior on the sphinx rendered scikit-learn.org. See: https://github.com/scikit-learn/scikit-learn/issues/21755 */display: inline-block !important;position: relative;}#sk-container-id-7 div.sk-text-repr-fallback {display: none;}</style><div id=\"sk-container-id-7\" class=\"sk-top-container\"><div class=\"sk-text-repr-fallback\"><pre>LogisticRegression(C=10, penalty=&#x27;l1&#x27;, random_state=42, solver=&#x27;liblinear&#x27;)</pre><b>In a Jupyter environment, please rerun this cell to show the HTML representation or trust the notebook. <br />On GitHub, the HTML representation is unable to render, please try loading this page with nbviewer.org.</b></div><div class=\"sk-container\" hidden><div class=\"sk-item\"><div class=\"sk-estimator sk-toggleable\"><input class=\"sk-toggleable__control sk-hidden--visually\" id=\"sk-estimator-id-7\" type=\"checkbox\" checked><label for=\"sk-estimator-id-7\" class=\"sk-toggleable__label sk-toggleable__label-arrow\">LogisticRegression</label><div class=\"sk-toggleable__content\"><pre>LogisticRegression(C=10, penalty=&#x27;l1&#x27;, random_state=42, solver=&#x27;liblinear&#x27;)</pre></div></div></div></div></div>"
      ],
      "text/plain": [
       "LogisticRegression(C=10, penalty='l1', random_state=42, solver='liblinear')"
      ]
     },
     "execution_count": 72,
     "metadata": {},
     "output_type": "execute_result"
    }
   ],
   "source": [
    "log_model.fit(x_train,y_balanced1) #Fitting the logistic regression model."
   ]
  },
  {
   "cell_type": "code",
   "execution_count": 73,
   "id": "49c6c6e0",
   "metadata": {},
   "outputs": [],
   "source": [
    "final_pred1=log_model.predict(x_test)"
   ]
  },
  {
   "cell_type": "code",
   "execution_count": 74,
   "id": "7a028910",
   "metadata": {},
   "outputs": [
    {
     "data": {
      "text/plain": [
       "0.7442557442557443"
      ]
     },
     "execution_count": 74,
     "metadata": {},
     "output_type": "execute_result"
    }
   ],
   "source": [
    "accuracy_score(y_balanced2,final_pred1)"
   ]
  },
  {
   "cell_type": "code",
   "execution_count": 75,
   "id": "bb408d77",
   "metadata": {},
   "outputs": [
    {
     "data": {
      "text/plain": [
       "0.706831119544592"
      ]
     },
     "execution_count": 75,
     "metadata": {},
     "output_type": "execute_result"
    }
   ],
   "source": [
    "f1_score(y_balanced2,final_pred1)"
   ]
  },
  {
   "cell_type": "code",
   "execution_count": 76,
   "id": "3d7c0542",
   "metadata": {},
   "outputs": [
    {
     "data": {
      "text/plain": [
       "0.6729900632339657"
      ]
     },
     "execution_count": 76,
     "metadata": {},
     "output_type": "execute_result"
    }
   ],
   "source": [
    "precision_score(y_balanced2,final_pred1)"
   ]
  },
  {
   "cell_type": "code",
   "execution_count": 77,
   "id": "9795bb55",
   "metadata": {},
   "outputs": [
    {
     "data": {
      "text/plain": [
       "0.7442557442557443"
      ]
     },
     "execution_count": 77,
     "metadata": {},
     "output_type": "execute_result"
    }
   ],
   "source": [
    "recall_score(y_balanced2,final_pred1)"
   ]
  },
  {
   "cell_type": "code",
   "execution_count": 80,
   "id": "d642337f",
   "metadata": {},
   "outputs": [
    {
     "data": {
      "text/html": [
       "<style>#sk-container-id-8 {color: black;background-color: white;}#sk-container-id-8 pre{padding: 0;}#sk-container-id-8 div.sk-toggleable {background-color: white;}#sk-container-id-8 label.sk-toggleable__label {cursor: pointer;display: block;width: 100%;margin-bottom: 0;padding: 0.3em;box-sizing: border-box;text-align: center;}#sk-container-id-8 label.sk-toggleable__label-arrow:before {content: \"▸\";float: left;margin-right: 0.25em;color: #696969;}#sk-container-id-8 label.sk-toggleable__label-arrow:hover:before {color: black;}#sk-container-id-8 div.sk-estimator:hover label.sk-toggleable__label-arrow:before {color: black;}#sk-container-id-8 div.sk-toggleable__content {max-height: 0;max-width: 0;overflow: hidden;text-align: left;background-color: #f0f8ff;}#sk-container-id-8 div.sk-toggleable__content pre {margin: 0.2em;color: black;border-radius: 0.25em;background-color: #f0f8ff;}#sk-container-id-8 input.sk-toggleable__control:checked~div.sk-toggleable__content {max-height: 200px;max-width: 100%;overflow: auto;}#sk-container-id-8 input.sk-toggleable__control:checked~label.sk-toggleable__label-arrow:before {content: \"▾\";}#sk-container-id-8 div.sk-estimator input.sk-toggleable__control:checked~label.sk-toggleable__label {background-color: #d4ebff;}#sk-container-id-8 div.sk-label input.sk-toggleable__control:checked~label.sk-toggleable__label {background-color: #d4ebff;}#sk-container-id-8 input.sk-hidden--visually {border: 0;clip: rect(1px 1px 1px 1px);clip: rect(1px, 1px, 1px, 1px);height: 1px;margin: -1px;overflow: hidden;padding: 0;position: absolute;width: 1px;}#sk-container-id-8 div.sk-estimator {font-family: monospace;background-color: #f0f8ff;border: 1px dotted black;border-radius: 0.25em;box-sizing: border-box;margin-bottom: 0.5em;}#sk-container-id-8 div.sk-estimator:hover {background-color: #d4ebff;}#sk-container-id-8 div.sk-parallel-item::after {content: \"\";width: 100%;border-bottom: 1px solid gray;flex-grow: 1;}#sk-container-id-8 div.sk-label:hover label.sk-toggleable__label {background-color: #d4ebff;}#sk-container-id-8 div.sk-serial::before {content: \"\";position: absolute;border-left: 1px solid gray;box-sizing: border-box;top: 0;bottom: 0;left: 50%;z-index: 0;}#sk-container-id-8 div.sk-serial {display: flex;flex-direction: column;align-items: center;background-color: white;padding-right: 0.2em;padding-left: 0.2em;position: relative;}#sk-container-id-8 div.sk-item {position: relative;z-index: 1;}#sk-container-id-8 div.sk-parallel {display: flex;align-items: stretch;justify-content: center;background-color: white;position: relative;}#sk-container-id-8 div.sk-item::before, #sk-container-id-8 div.sk-parallel-item::before {content: \"\";position: absolute;border-left: 1px solid gray;box-sizing: border-box;top: 0;bottom: 0;left: 50%;z-index: -1;}#sk-container-id-8 div.sk-parallel-item {display: flex;flex-direction: column;z-index: 1;position: relative;background-color: white;}#sk-container-id-8 div.sk-parallel-item:first-child::after {align-self: flex-end;width: 50%;}#sk-container-id-8 div.sk-parallel-item:last-child::after {align-self: flex-start;width: 50%;}#sk-container-id-8 div.sk-parallel-item:only-child::after {width: 0;}#sk-container-id-8 div.sk-dashed-wrapped {border: 1px dashed gray;margin: 0 0.4em 0.5em 0.4em;box-sizing: border-box;padding-bottom: 0.4em;background-color: white;}#sk-container-id-8 div.sk-label label {font-family: monospace;font-weight: bold;display: inline-block;line-height: 1.2em;}#sk-container-id-8 div.sk-label-container {text-align: center;}#sk-container-id-8 div.sk-container {/* jupyter's `normalize.less` sets `[hidden] { display: none; }` but bootstrap.min.css set `[hidden] { display: none !important; }` so we also need the `!important` here to be able to override the default hidden behavior on the sphinx rendered scikit-learn.org. See: https://github.com/scikit-learn/scikit-learn/issues/21755 */display: inline-block !important;position: relative;}#sk-container-id-8 div.sk-text-repr-fallback {display: none;}</style><div id=\"sk-container-id-8\" class=\"sk-top-container\"><div class=\"sk-text-repr-fallback\"><pre>RandomForestClassifier(random_state=42)</pre><b>In a Jupyter environment, please rerun this cell to show the HTML representation or trust the notebook. <br />On GitHub, the HTML representation is unable to render, please try loading this page with nbviewer.org.</b></div><div class=\"sk-container\" hidden><div class=\"sk-item\"><div class=\"sk-estimator sk-toggleable\"><input class=\"sk-toggleable__control sk-hidden--visually\" id=\"sk-estimator-id-8\" type=\"checkbox\" checked><label for=\"sk-estimator-id-8\" class=\"sk-toggleable__label sk-toggleable__label-arrow\">RandomForestClassifier</label><div class=\"sk-toggleable__content\"><pre>RandomForestClassifier(random_state=42)</pre></div></div></div></div></div>"
      ],
      "text/plain": [
       "RandomForestClassifier(random_state=42)"
      ]
     },
     "execution_count": 80,
     "metadata": {},
     "output_type": "execute_result"
    }
   ],
   "source": [
    "rand_model.fit(x_train,y_balanced1)"
   ]
  },
  {
   "cell_type": "code",
   "execution_count": 82,
   "id": "ee8bb8c0",
   "metadata": {},
   "outputs": [],
   "source": [
    "final_pred2= rand_model.predict(x_test)"
   ]
  },
  {
   "cell_type": "code",
   "execution_count": 83,
   "id": "eccb0a89",
   "metadata": {},
   "outputs": [
    {
     "data": {
      "text/plain": [
       "0.6768332251784556"
      ]
     },
     "execution_count": 83,
     "metadata": {},
     "output_type": "execute_result"
    }
   ],
   "source": [
    "f1_score(y_balanced2,final_pred2)"
   ]
  },
  {
   "cell_type": "code",
   "execution_count": 84,
   "id": "96f7e8f8",
   "metadata": {},
   "outputs": [
    {
     "data": {
      "text/plain": [
       "0.5209790209790209"
      ]
     },
     "execution_count": 84,
     "metadata": {},
     "output_type": "execute_result"
    }
   ],
   "source": [
    "recall_score(y_balanced2,final_pred2)"
   ]
  },
  {
   "cell_type": "code",
   "execution_count": 85,
   "id": "b26a4e10",
   "metadata": {},
   "outputs": [
    {
     "data": {
      "text/plain": [
       "0.9657407407407408"
      ]
     },
     "execution_count": 85,
     "metadata": {},
     "output_type": "execute_result"
    }
   ],
   "source": [
    "precision_score(y_balanced2,final_pred2)"
   ]
  },
  {
   "cell_type": "code",
   "execution_count": 86,
   "id": "11b5f7cc",
   "metadata": {},
   "outputs": [
    {
     "data": {
      "text/html": [
       "<style>#sk-container-id-9 {color: black;background-color: white;}#sk-container-id-9 pre{padding: 0;}#sk-container-id-9 div.sk-toggleable {background-color: white;}#sk-container-id-9 label.sk-toggleable__label {cursor: pointer;display: block;width: 100%;margin-bottom: 0;padding: 0.3em;box-sizing: border-box;text-align: center;}#sk-container-id-9 label.sk-toggleable__label-arrow:before {content: \"▸\";float: left;margin-right: 0.25em;color: #696969;}#sk-container-id-9 label.sk-toggleable__label-arrow:hover:before {color: black;}#sk-container-id-9 div.sk-estimator:hover label.sk-toggleable__label-arrow:before {color: black;}#sk-container-id-9 div.sk-toggleable__content {max-height: 0;max-width: 0;overflow: hidden;text-align: left;background-color: #f0f8ff;}#sk-container-id-9 div.sk-toggleable__content pre {margin: 0.2em;color: black;border-radius: 0.25em;background-color: #f0f8ff;}#sk-container-id-9 input.sk-toggleable__control:checked~div.sk-toggleable__content {max-height: 200px;max-width: 100%;overflow: auto;}#sk-container-id-9 input.sk-toggleable__control:checked~label.sk-toggleable__label-arrow:before {content: \"▾\";}#sk-container-id-9 div.sk-estimator input.sk-toggleable__control:checked~label.sk-toggleable__label {background-color: #d4ebff;}#sk-container-id-9 div.sk-label input.sk-toggleable__control:checked~label.sk-toggleable__label {background-color: #d4ebff;}#sk-container-id-9 input.sk-hidden--visually {border: 0;clip: rect(1px 1px 1px 1px);clip: rect(1px, 1px, 1px, 1px);height: 1px;margin: -1px;overflow: hidden;padding: 0;position: absolute;width: 1px;}#sk-container-id-9 div.sk-estimator {font-family: monospace;background-color: #f0f8ff;border: 1px dotted black;border-radius: 0.25em;box-sizing: border-box;margin-bottom: 0.5em;}#sk-container-id-9 div.sk-estimator:hover {background-color: #d4ebff;}#sk-container-id-9 div.sk-parallel-item::after {content: \"\";width: 100%;border-bottom: 1px solid gray;flex-grow: 1;}#sk-container-id-9 div.sk-label:hover label.sk-toggleable__label {background-color: #d4ebff;}#sk-container-id-9 div.sk-serial::before {content: \"\";position: absolute;border-left: 1px solid gray;box-sizing: border-box;top: 0;bottom: 0;left: 50%;z-index: 0;}#sk-container-id-9 div.sk-serial {display: flex;flex-direction: column;align-items: center;background-color: white;padding-right: 0.2em;padding-left: 0.2em;position: relative;}#sk-container-id-9 div.sk-item {position: relative;z-index: 1;}#sk-container-id-9 div.sk-parallel {display: flex;align-items: stretch;justify-content: center;background-color: white;position: relative;}#sk-container-id-9 div.sk-item::before, #sk-container-id-9 div.sk-parallel-item::before {content: \"\";position: absolute;border-left: 1px solid gray;box-sizing: border-box;top: 0;bottom: 0;left: 50%;z-index: -1;}#sk-container-id-9 div.sk-parallel-item {display: flex;flex-direction: column;z-index: 1;position: relative;background-color: white;}#sk-container-id-9 div.sk-parallel-item:first-child::after {align-self: flex-end;width: 50%;}#sk-container-id-9 div.sk-parallel-item:last-child::after {align-self: flex-start;width: 50%;}#sk-container-id-9 div.sk-parallel-item:only-child::after {width: 0;}#sk-container-id-9 div.sk-dashed-wrapped {border: 1px dashed gray;margin: 0 0.4em 0.5em 0.4em;box-sizing: border-box;padding-bottom: 0.4em;background-color: white;}#sk-container-id-9 div.sk-label label {font-family: monospace;font-weight: bold;display: inline-block;line-height: 1.2em;}#sk-container-id-9 div.sk-label-container {text-align: center;}#sk-container-id-9 div.sk-container {/* jupyter's `normalize.less` sets `[hidden] { display: none; }` but bootstrap.min.css set `[hidden] { display: none !important; }` so we also need the `!important` here to be able to override the default hidden behavior on the sphinx rendered scikit-learn.org. See: https://github.com/scikit-learn/scikit-learn/issues/21755 */display: inline-block !important;position: relative;}#sk-container-id-9 div.sk-text-repr-fallback {display: none;}</style><div id=\"sk-container-id-9\" class=\"sk-top-container\"><div class=\"sk-text-repr-fallback\"><pre>SVC(random_state=42)</pre><b>In a Jupyter environment, please rerun this cell to show the HTML representation or trust the notebook. <br />On GitHub, the HTML representation is unable to render, please try loading this page with nbviewer.org.</b></div><div class=\"sk-container\" hidden><div class=\"sk-item\"><div class=\"sk-estimator sk-toggleable\"><input class=\"sk-toggleable__control sk-hidden--visually\" id=\"sk-estimator-id-9\" type=\"checkbox\" checked><label for=\"sk-estimator-id-9\" class=\"sk-toggleable__label sk-toggleable__label-arrow\">SVC</label><div class=\"sk-toggleable__content\"><pre>SVC(random_state=42)</pre></div></div></div></div></div>"
      ],
      "text/plain": [
       "SVC(random_state=42)"
      ]
     },
     "execution_count": 86,
     "metadata": {},
     "output_type": "execute_result"
    }
   ],
   "source": [
    "svc_model.fit(x_train,y_balanced1)"
   ]
  },
  {
   "cell_type": "code",
   "execution_count": 87,
   "id": "4973507b",
   "metadata": {},
   "outputs": [],
   "source": [
    "final_pred3 = svc_model.predict(x_test)"
   ]
  },
  {
   "cell_type": "code",
   "execution_count": 88,
   "id": "e7630c64",
   "metadata": {},
   "outputs": [
    {
     "data": {
      "text/plain": [
       "0.9485514485514486"
      ]
     },
     "execution_count": 88,
     "metadata": {},
     "output_type": "execute_result"
    }
   ],
   "source": [
    "recall_score(y_balanced2,final_pred3)"
   ]
  },
  {
   "cell_type": "code",
   "execution_count": 89,
   "id": "9aead6ee",
   "metadata": {},
   "outputs": [
    {
     "data": {
      "text/plain": [
       "0.5334269662921348"
      ]
     },
     "execution_count": 89,
     "metadata": {},
     "output_type": "execute_result"
    }
   ],
   "source": [
    "precision_score(y_balanced2,final_pred3)"
   ]
  },
  {
   "cell_type": "code",
   "execution_count": null,
   "id": "70915fde",
   "metadata": {},
   "outputs": [],
   "source": []
  }
 ],
 "metadata": {
  "kernelspec": {
   "display_name": "Python 3 (ipykernel)",
   "language": "python",
   "name": "python3"
  },
  "language_info": {
   "codemirror_mode": {
    "name": "ipython",
    "version": 3
   },
   "file_extension": ".py",
   "mimetype": "text/x-python",
   "name": "python",
   "nbconvert_exporter": "python",
   "pygments_lexer": "ipython3",
   "version": "3.9.5"
  }
 },
 "nbformat": 4,
 "nbformat_minor": 5
}
